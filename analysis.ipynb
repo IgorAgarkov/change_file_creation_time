{
 "cells": [
  {
   "cell_type": "code",
   "execution_count": 18,
   "id": "f74c7f9b",
   "metadata": {},
   "outputs": [],
   "source": [
    "# https://pypi.org/project/exif/\n",
    "# pip install exif\n",
    "\n",
    "# https://pypi.org/project/pymediainfo/\n",
    "# pip install pymediainfo"
   ]
  },
  {
   "cell_type": "code",
   "execution_count": 104,
   "id": "0ea881aa",
   "metadata": {},
   "outputs": [],
   "source": [
    "import pandas as pd\n",
    "# import PIL.Image\n",
    "from exif import Image\n",
    "from pprint import pprint\n",
    "from pymediainfo import MediaInfo\n",
    "from pathlib import Path\n",
    "import numpy as np\n",
    "import os\n",
    "import re\n",
    "import numpy as np"
   ]
  },
  {
   "cell_type": "code",
   "execution_count": 49,
   "id": "a2b6b61a",
   "metadata": {},
   "outputs": [],
   "source": [
    "path = Path(r'G:\\Google Photo_extr\\Takeout\\Google Фото')\n",
    "# path = Path(r'D:\\Рабочая\\!_Scripts\\change_file_creation_time')\n",
    "# path = Path('G:/temp/Тест фото')"
   ]
  },
  {
   "cell_type": "code",
   "execution_count": 50,
   "id": "ac7ba11d",
   "metadata": {},
   "outputs": [
    {
     "name": "stdout",
     "output_type": "stream",
     "text": [
      "Wall time: 6min 14s\n"
     ]
    },
    {
     "data": {
      "text/html": [
       "<div>\n",
       "<style scoped>\n",
       "    .dataframe tbody tr th:only-of-type {\n",
       "        vertical-align: middle;\n",
       "    }\n",
       "\n",
       "    .dataframe tbody tr th {\n",
       "        vertical-align: top;\n",
       "    }\n",
       "\n",
       "    .dataframe thead th {\n",
       "        text-align: right;\n",
       "    }\n",
       "</style>\n",
       "<table border=\"1\" class=\"dataframe\">\n",
       "  <thead>\n",
       "    <tr style=\"text-align: right;\">\n",
       "      <th></th>\n",
       "      <th>name</th>\n",
       "      <th>full_name</th>\n",
       "      <th>extension</th>\n",
       "      <th>path</th>\n",
       "    </tr>\n",
       "  </thead>\n",
       "  <tbody>\n",
       "    <tr>\n",
       "      <th>0</th>\n",
       "      <td>print-subscriptions</td>\n",
       "      <td>print-subscriptions.json</td>\n",
       "      <td>.json</td>\n",
       "      <td>G:\\Google Photo_extr\\Takeout\\Google Фото</td>\n",
       "    </tr>\n",
       "    <tr>\n",
       "      <th>1</th>\n",
       "      <td>shared_album_comments</td>\n",
       "      <td>shared_album_comments.json</td>\n",
       "      <td>.json</td>\n",
       "      <td>G:\\Google Photo_extr\\Takeout\\Google Фото</td>\n",
       "    </tr>\n",
       "    <tr>\n",
       "      <th>2</th>\n",
       "      <td>user-generated-memory-titles</td>\n",
       "      <td>user-generated-memory-titles.json</td>\n",
       "      <td>.json</td>\n",
       "      <td>G:\\Google Photo_extr\\Takeout\\Google Фото</td>\n",
       "    </tr>\n",
       "    <tr>\n",
       "      <th>3</th>\n",
       "      <td>DSC01856</td>\n",
       "      <td>DSC01856.JPG</td>\n",
       "      <td>.jpg</td>\n",
       "      <td>G:\\Google Photo_extr\\Takeout\\Google Фото\\Photo...</td>\n",
       "    </tr>\n",
       "    <tr>\n",
       "      <th>4</th>\n",
       "      <td>DSC01856</td>\n",
       "      <td>DSC01856.JPG.json</td>\n",
       "      <td>.json</td>\n",
       "      <td>G:\\Google Photo_extr\\Takeout\\Google Фото\\Photo...</td>\n",
       "    </tr>\n",
       "  </tbody>\n",
       "</table>\n",
       "</div>"
      ],
      "text/plain": [
       "                           name                          full_name extension  \\\n",
       "0           print-subscriptions           print-subscriptions.json     .json   \n",
       "1         shared_album_comments         shared_album_comments.json     .json   \n",
       "2  user-generated-memory-titles  user-generated-memory-titles.json     .json   \n",
       "3                      DSC01856                       DSC01856.JPG      .jpg   \n",
       "4                      DSC01856                  DSC01856.JPG.json     .json   \n",
       "\n",
       "                                                path  \n",
       "0           G:\\Google Photo_extr\\Takeout\\Google Фото  \n",
       "1           G:\\Google Photo_extr\\Takeout\\Google Фото  \n",
       "2           G:\\Google Photo_extr\\Takeout\\Google Фото  \n",
       "3  G:\\Google Photo_extr\\Takeout\\Google Фото\\Photo...  \n",
       "4  G:\\Google Photo_extr\\Takeout\\Google Фото\\Photo...  "
      ]
     },
     "execution_count": 50,
     "metadata": {},
     "output_type": "execute_result"
    }
   ],
   "source": [
    "%%time\n",
    "df = pd.DataFrame(columns=['name', 'full_name', 'extension', 'path'])\n",
    "for file_path in path.glob('**/*.*'):\n",
    "    if file_path.is_file():\n",
    "        extension = file_path.suffix.lower()\n",
    "        name = Path(file_path.stem).stem\n",
    "        full_name = file_path.name\n",
    "        parent_path = file_path.parent\n",
    "        df.loc[len(df)] = [name, full_name, extension, parent_path]\n",
    "df.head()"
   ]
  },
  {
   "cell_type": "code",
   "execution_count": 102,
   "id": "69b16e9d",
   "metadata": {},
   "outputs": [],
   "source": [
    "df['full_path'] = df.path / df.full_name"
   ]
  },
  {
   "cell_type": "code",
   "execution_count": 103,
   "id": "f9d37318",
   "metadata": {},
   "outputs": [
    {
     "data": {
      "text/plain": [
       "WindowsPath('G:/Google Photo_extr/Takeout/Google Фото/print-subscriptions.json')"
      ]
     },
     "execution_count": 103,
     "metadata": {},
     "output_type": "execute_result"
    }
   ],
   "source": [
    "df.full_path.loc[0]"
   ]
  },
  {
   "cell_type": "code",
   "execution_count": 99,
   "id": "fde07f5c",
   "metadata": {},
   "outputs": [
    {
     "data": {
      "text/plain": [
       "'print-subscriptions.json'"
      ]
     },
     "execution_count": 99,
     "metadata": {},
     "output_type": "execute_result"
    }
   ],
   "source": [
    "df.full_name.loc[0]"
   ]
  },
  {
   "cell_type": "code",
   "execution_count": 89,
   "id": "e5f55e37",
   "metadata": {},
   "outputs": [
    {
     "data": {
      "text/plain": [
       ".json    31740\n",
       ".jpg     28857\n",
       ".mp4      2132\n",
       ".mts       516\n",
       ".jpeg       56\n",
       ".avi        41\n",
       ".nef        40\n",
       ".mov        38\n",
       ".3gp        19\n",
       ".gif        13\n",
       ".png         6\n",
       ".mpg         3\n",
       ".bmp         3\n",
       ".mkv         1\n",
       "Name: extension, dtype: int64"
      ]
     },
     "execution_count": 89,
     "metadata": {},
     "output_type": "execute_result"
    }
   ],
   "source": [
    "# посмотрим сколько каких файлов по типам расширения у нас есть\n",
    "df.extension.value_counts()"
   ]
  },
  {
   "cell_type": "code",
   "execution_count": 52,
   "id": "abda1410",
   "metadata": {},
   "outputs": [],
   "source": [
    "# списки расширений для видео и фото\n",
    "video_ext = np.array(['.mp4', '.mts', '.avi', '.mov', '.3gp', '.mpg', '.mkv'])\n",
    "photo_ext = np.array(['.jpg', '.jpeg', '.nef', '.gif', '.png', '.bmp'])"
   ]
  },
  {
   "cell_type": "code",
   "execution_count": 83,
   "id": "8a769b14",
   "metadata": {},
   "outputs": [],
   "source": [
    "nef_path = df.query('extension == \".nef\"').path"
   ]
  },
  {
   "cell_type": "code",
   "execution_count": 86,
   "id": "e70bb101",
   "metadata": {},
   "outputs": [
    {
     "data": {
      "text/plain": [
       "WindowsPath('G:/Google Photo_extr/Takeout/Google Фото/Photos from 2012')"
      ]
     },
     "execution_count": 86,
     "metadata": {},
     "output_type": "execute_result"
    }
   ],
   "source": [
    "nef_path.loc[15967]"
   ]
  },
  {
   "cell_type": "code",
   "execution_count": null,
   "id": "dfc1cb38",
   "metadata": {},
   "outputs": [],
   "source": []
  },
  {
   "cell_type": "code",
   "execution_count": 60,
   "id": "387a2bab",
   "metadata": {},
   "outputs": [],
   "source": [
    "# фильтруем медиа-файлы\n",
    "media_df = df.query('extension in @photo_ext or extension in @video_ext')"
   ]
  },
  {
   "cell_type": "code",
   "execution_count": 61,
   "id": "451bc4fb",
   "metadata": {},
   "outputs": [],
   "source": [
    "# фильтруем json-файлы\n",
    "json_df = df.query('extension == \".json\"')"
   ]
  },
  {
   "cell_type": "code",
   "execution_count": 62,
   "id": "5579cf05",
   "metadata": {},
   "outputs": [
    {
     "data": {
      "text/plain": [
       "(31725, 2)"
      ]
     },
     "execution_count": 62,
     "metadata": {},
     "output_type": "execute_result"
    }
   ],
   "source": [
    "media_df[['name', 'full_name']].shape"
   ]
  },
  {
   "cell_type": "code",
   "execution_count": 72,
   "id": "1085892e",
   "metadata": {},
   "outputs": [],
   "source": [
    "# проверяем для каждого ли медиа файла имеется свой json-файл?\n",
    "comparison = (media_df[['name', 'full_name', 'path']]\n",
    "    .merge(json_df[['name', 'full_name']]\n",
    "           , on='name'\n",
    "           , how = 'left')\n",
    "             )"
   ]
  },
  {
   "cell_type": "code",
   "execution_count": 73,
   "id": "981c6ba6",
   "metadata": {},
   "outputs": [
    {
     "data": {
      "text/plain": [
       "name              0\n",
       "full_name_x       0\n",
       "path              0\n",
       "full_name_y    3351\n",
       "dtype: int64"
      ]
     },
     "execution_count": 73,
     "metadata": {},
     "output_type": "execute_result"
    }
   ],
   "source": [
    "comparison.isna().sum()"
   ]
  },
  {
   "cell_type": "code",
   "execution_count": 82,
   "id": "0c0bb62a",
   "metadata": {},
   "outputs": [
    {
     "data": {
      "text/html": [
       "<div>\n",
       "<style scoped>\n",
       "    .dataframe tbody tr th:only-of-type {\n",
       "        vertical-align: middle;\n",
       "    }\n",
       "\n",
       "    .dataframe tbody tr th {\n",
       "        vertical-align: top;\n",
       "    }\n",
       "\n",
       "    .dataframe thead th {\n",
       "        text-align: right;\n",
       "    }\n",
       "</style>\n",
       "<table border=\"1\" class=\"dataframe\">\n",
       "  <thead>\n",
       "    <tr style=\"text-align: right;\">\n",
       "      <th></th>\n",
       "      <th>name</th>\n",
       "      <th>full_name_x</th>\n",
       "      <th>path</th>\n",
       "      <th>full_name_y</th>\n",
       "    </tr>\n",
       "  </thead>\n",
       "  <tbody>\n",
       "    <tr>\n",
       "      <th>84</th>\n",
       "      <td>DSC01887-измененный</td>\n",
       "      <td>DSC01887-измененный.JPG</td>\n",
       "      <td>G:\\Google Photo_extr\\Takeout\\Google Фото\\Photo...</td>\n",
       "      <td>NaN</td>\n",
       "    </tr>\n",
       "    <tr>\n",
       "      <th>95</th>\n",
       "      <td>DSC01893-измененный</td>\n",
       "      <td>DSC01893-измененный.JPG</td>\n",
       "      <td>G:\\Google Photo_extr\\Takeout\\Google Фото\\Photo...</td>\n",
       "      <td>NaN</td>\n",
       "    </tr>\n",
       "    <tr>\n",
       "      <th>111</th>\n",
       "      <td>DSC01911-измененный</td>\n",
       "      <td>DSC01911-измененный.JPG</td>\n",
       "      <td>G:\\Google Photo_extr\\Takeout\\Google Фото\\Photo...</td>\n",
       "      <td>NaN</td>\n",
       "    </tr>\n",
       "    <tr>\n",
       "      <th>3289</th>\n",
       "      <td>scene_20070728 17.58</td>\n",
       "      <td>scene_20070728 17.58.48.mp4</td>\n",
       "      <td>G:\\Google Photo_extr\\Takeout\\Google Фото\\Photo...</td>\n",
       "      <td>NaN</td>\n",
       "    </tr>\n",
       "    <tr>\n",
       "      <th>3290</th>\n",
       "      <td>scene_20070728 18.07</td>\n",
       "      <td>scene_20070728 18.07.14.mp4</td>\n",
       "      <td>G:\\Google Photo_extr\\Takeout\\Google Фото\\Photo...</td>\n",
       "      <td>NaN</td>\n",
       "    </tr>\n",
       "    <tr>\n",
       "      <th>...</th>\n",
       "      <td>...</td>\n",
       "      <td>...</td>\n",
       "      <td>...</td>\n",
       "      <td>...</td>\n",
       "    </tr>\n",
       "    <tr>\n",
       "      <th>127197</th>\n",
       "      <td>DSC_0218(1)</td>\n",
       "      <td>DSC_0218(1).JPG</td>\n",
       "      <td>G:\\Google Photo_extr\\Takeout\\Google Фото\\Савел...</td>\n",
       "      <td>NaN</td>\n",
       "    </tr>\n",
       "    <tr>\n",
       "      <th>127211</th>\n",
       "      <td>DSC_0219(1)</td>\n",
       "      <td>DSC_0219(1).JPG</td>\n",
       "      <td>G:\\Google Photo_extr\\Takeout\\Google Фото\\Савел...</td>\n",
       "      <td>NaN</td>\n",
       "    </tr>\n",
       "    <tr>\n",
       "      <th>127667</th>\n",
       "      <td>DSC_0257(1)</td>\n",
       "      <td>DSC_0257(1).JPG</td>\n",
       "      <td>G:\\Google Photo_extr\\Takeout\\Google Фото\\Савел...</td>\n",
       "      <td>NaN</td>\n",
       "    </tr>\n",
       "    <tr>\n",
       "      <th>127685</th>\n",
       "      <td>DSC_0258(1)</td>\n",
       "      <td>DSC_0258(1).JPG</td>\n",
       "      <td>G:\\Google Photo_extr\\Takeout\\Google Фото\\Савел...</td>\n",
       "      <td>NaN</td>\n",
       "    </tr>\n",
       "    <tr>\n",
       "      <th>127700</th>\n",
       "      <td>DSC_0259(1)</td>\n",
       "      <td>DSC_0259(1).JPG</td>\n",
       "      <td>G:\\Google Photo_extr\\Takeout\\Google Фото\\Савел...</td>\n",
       "      <td>NaN</td>\n",
       "    </tr>\n",
       "  </tbody>\n",
       "</table>\n",
       "<p>3351 rows × 4 columns</p>\n",
       "</div>"
      ],
      "text/plain": [
       "                        name                  full_name_x  \\\n",
       "84       DSC01887-измененный      DSC01887-измененный.JPG   \n",
       "95       DSC01893-измененный      DSC01893-измененный.JPG   \n",
       "111      DSC01911-измененный      DSC01911-измененный.JPG   \n",
       "3289    scene_20070728 17.58  scene_20070728 17.58.48.mp4   \n",
       "3290    scene_20070728 18.07  scene_20070728 18.07.14.mp4   \n",
       "...                      ...                          ...   \n",
       "127197           DSC_0218(1)              DSC_0218(1).JPG   \n",
       "127211           DSC_0219(1)              DSC_0219(1).JPG   \n",
       "127667           DSC_0257(1)              DSC_0257(1).JPG   \n",
       "127685           DSC_0258(1)              DSC_0258(1).JPG   \n",
       "127700           DSC_0259(1)              DSC_0259(1).JPG   \n",
       "\n",
       "                                                     path full_name_y  \n",
       "84      G:\\Google Photo_extr\\Takeout\\Google Фото\\Photo...         NaN  \n",
       "95      G:\\Google Photo_extr\\Takeout\\Google Фото\\Photo...         NaN  \n",
       "111     G:\\Google Photo_extr\\Takeout\\Google Фото\\Photo...         NaN  \n",
       "3289    G:\\Google Photo_extr\\Takeout\\Google Фото\\Photo...         NaN  \n",
       "3290    G:\\Google Photo_extr\\Takeout\\Google Фото\\Photo...         NaN  \n",
       "...                                                   ...         ...  \n",
       "127197  G:\\Google Photo_extr\\Takeout\\Google Фото\\Савел...         NaN  \n",
       "127211  G:\\Google Photo_extr\\Takeout\\Google Фото\\Савел...         NaN  \n",
       "127667  G:\\Google Photo_extr\\Takeout\\Google Фото\\Савел...         NaN  \n",
       "127685  G:\\Google Photo_extr\\Takeout\\Google Фото\\Савел...         NaN  \n",
       "127700  G:\\Google Photo_extr\\Takeout\\Google Фото\\Савел...         NaN  \n",
       "\n",
       "[3351 rows x 4 columns]"
      ]
     },
     "execution_count": 82,
     "metadata": {},
     "output_type": "execute_result"
    }
   ],
   "source": [
    "# медиа файлы без json-ов\n",
    "comparison[comparison.full_name_y.isna()]"
   ]
  },
  {
   "cell_type": "code",
   "execution_count": null,
   "id": "0bb85f6a",
   "metadata": {},
   "outputs": [],
   "source": []
  },
  {
   "cell_type": "code",
   "execution_count": 110,
   "id": "74520390",
   "metadata": {},
   "outputs": [],
   "source": [
    "# функция вытаскивающая exif\n",
    "def get_exif(path_col):\n",
    "    \n",
    "    # списки расширений для видео и фото\n",
    "    video_ext = np.array(['.mp4', '.mts', '.avi', '.mov', '.3gp', '.mpg', '.mkv'])\n",
    "    photo_ext = np.array(['.jpg', '.jpeg', '.nef', '.gif', '.png', '.bmp'])\n",
    "    \n",
    "    # вытаскиваем exif из видео\n",
    "    if path_col.suffix.lower() in video_ext:\n",
    "        try:\n",
    "            media_info = MediaInfo.parse(path_col)\n",
    "            for track in media_info.tracks:\n",
    "                if track.track_type == \"Video\":\n",
    "                    exif_vdata = track.to_data()\n",
    "            vdata = exif_vdata['tagged_date']\n",
    "            vdata = pd.to_datetime(vdata[4:])\n",
    "            time_zone = pd.to_timedelta(7, unit='h')\n",
    "            return pd.to_datetime(vdata[4:]) + time_zone\n",
    "        except:\n",
    "            return np.nan()\n",
    "    \n",
    "    # вытаскиваем exif из фото\n",
    "    elif path_col.suffix.lower() in photo_ext :\n",
    "        try:\n",
    "            with open('IMG_20211123_162603.jpg', 'rb') as image_file:\n",
    "                my_image = Image(image_file)\n",
    "            fdata = my_image.datetime\n",
    "            fpattern = re.compile('(\\d\\d\\d\\d:\\d\\d:\\d\\d) (\\d\\d:\\d\\d:\\d\\d)') \n",
    "            return pd.to_datetime(fpattern.findall(fdata)[0][0].replace(':','-') + ' ' + fpattern.findall(fdata)[0][1])\n",
    "        except:\n",
    "            return np.nan\n",
    "    else:\n",
    "        return np.nan"
   ]
  },
  {
   "cell_type": "code",
   "execution_count": 107,
   "id": "684106c6",
   "metadata": {},
   "outputs": [
    {
     "data": {
      "text/plain": [
       "WindowsPath('G:/Google Photo_extr/Takeout/Google Фото/Photos from 2006/DSC01856.JPG')"
      ]
     },
     "execution_count": 107,
     "metadata": {},
     "output_type": "execute_result"
    }
   ],
   "source": [
    "df.full_path.loc[3]"
   ]
  },
  {
   "cell_type": "code",
   "execution_count": 111,
   "id": "f90ffc28",
   "metadata": {},
   "outputs": [
    {
     "data": {
      "text/plain": [
       "nan"
      ]
     },
     "execution_count": 111,
     "metadata": {},
     "output_type": "execute_result"
    }
   ],
   "source": [
    "get_exif(df.full_path.loc[3])"
   ]
  },
  {
   "cell_type": "code",
   "execution_count": null,
   "id": "1a5935fb",
   "metadata": {},
   "outputs": [],
   "source": []
  },
  {
   "cell_type": "code",
   "execution_count": null,
   "id": "f3bdc6f7",
   "metadata": {},
   "outputs": [],
   "source": []
  },
  {
   "cell_type": "code",
   "execution_count": null,
   "id": "b3e08ddb",
   "metadata": {},
   "outputs": [],
   "source": []
  },
  {
   "cell_type": "code",
   "execution_count": null,
   "id": "0839395b",
   "metadata": {},
   "outputs": [],
   "source": []
  },
  {
   "cell_type": "code",
   "execution_count": null,
   "id": "0feefb28",
   "metadata": {},
   "outputs": [],
   "source": []
  },
  {
   "cell_type": "code",
   "execution_count": null,
   "id": "9c2e4dd8",
   "metadata": {},
   "outputs": [],
   "source": []
  },
  {
   "cell_type": "code",
   "execution_count": 46,
   "id": "02d54e79",
   "metadata": {},
   "outputs": [
    {
     "data": {
      "text/plain": [
       "'UTC 2019-01-07 00:28:08'"
      ]
     },
     "execution_count": 46,
     "metadata": {},
     "output_type": "execute_result"
    }
   ],
   "source": [
    "media_info = MediaInfo.parse(\"VID_20190106_162804.mp4\")\n",
    "for track in media_info.tracks:\n",
    "    if track.track_type == \"Video\":\n",
    "        exif_vdata = track.to_data()\n",
    "vdata = exif_vdata['tagged_date']"
   ]
  },
  {
   "cell_type": "code",
   "execution_count": 50,
   "id": "429086f7",
   "metadata": {},
   "outputs": [
    {
     "data": {
      "text/plain": [
       "Timestamp('2019-01-07 00:28:08')"
      ]
     },
     "execution_count": 50,
     "metadata": {},
     "output_type": "execute_result"
    }
   ],
   "source": [
    "pd.to_datetime(vdata[4:])"
   ]
  },
  {
   "cell_type": "code",
   "execution_count": 55,
   "id": "dc5e75a5",
   "metadata": {},
   "outputs": [],
   "source": [
    "time_zone = pd.to_timedelta(7, unit='h')"
   ]
  },
  {
   "cell_type": "code",
   "execution_count": 56,
   "id": "66db74eb",
   "metadata": {},
   "outputs": [
    {
     "data": {
      "text/plain": [
       "Timestamp('2019-01-07 07:28:08')"
      ]
     },
     "execution_count": 56,
     "metadata": {},
     "output_type": "execute_result"
    }
   ],
   "source": [
    "pd.to_datetime(vdata[4:]) + time_zone"
   ]
  },
  {
   "cell_type": "code",
   "execution_count": 59,
   "id": "70106b60",
   "metadata": {},
   "outputs": [
    {
     "data": {
      "text/plain": [
       "True"
      ]
     },
     "execution_count": 59,
     "metadata": {},
     "output_type": "execute_result"
    }
   ],
   "source": [
    "with open('IMG_20211123_162603.jpg', 'rb') as image_file:\n",
    "    my_image = Image(image_file)\n",
    "my_image.has_exif"
   ]
  },
  {
   "cell_type": "code",
   "execution_count": 72,
   "id": "2adb55b1",
   "metadata": {},
   "outputs": [],
   "source": [
    "# список всех методов\n",
    "# my_image.list_all()"
   ]
  },
  {
   "cell_type": "code",
   "execution_count": 63,
   "id": "6d04702c",
   "metadata": {
    "scrolled": true
   },
   "outputs": [
    {
     "data": {
      "text/plain": [
       "'2021:11:23 16:26:05'"
      ]
     },
     "execution_count": 63,
     "metadata": {},
     "output_type": "execute_result"
    }
   ],
   "source": [
    "fdata = my_image.datetime\n",
    "fdata"
   ]
  },
  {
   "cell_type": "code",
   "execution_count": 71,
   "id": "9541aef3",
   "metadata": {},
   "outputs": [
    {
     "data": {
      "text/plain": [
       "'2021-11-23 16:26:05'"
      ]
     },
     "execution_count": 71,
     "metadata": {},
     "output_type": "execute_result"
    }
   ],
   "source": [
    "fpattern = re.compile('(\\d\\d\\d\\d:\\d\\d:\\d\\d) (\\d\\d:\\d\\d:\\d\\d)') \n",
    "fpattern.findall(fdata)[0][0].replace(':','-') + ' ' + fpattern.findall(fdata)[0][1]"
   ]
  },
  {
   "cell_type": "code",
   "execution_count": 25,
   "id": "c98633d9",
   "metadata": {},
   "outputs": [
    {
     "data": {
      "text/plain": [
       "'2021:11:23 16:26:05'"
      ]
     },
     "execution_count": 25,
     "metadata": {},
     "output_type": "execute_result"
    }
   ],
   "source": [
    "my_image.datetime_original"
   ]
  },
  {
   "cell_type": "code",
   "execution_count": 26,
   "id": "401161a8",
   "metadata": {},
   "outputs": [
    {
     "data": {
      "text/plain": [
       "'2021:11:23 16:26:05'"
      ]
     },
     "execution_count": 26,
     "metadata": {},
     "output_type": "execute_result"
    }
   ],
   "source": [
    "my_image.datetime_digitized"
   ]
  },
  {
   "cell_type": "code",
   "execution_count": 27,
   "id": "2208cd54",
   "metadata": {},
   "outputs": [
    {
     "data": {
      "text/plain": [
       "'2021:11:23'"
      ]
     },
     "execution_count": 27,
     "metadata": {},
     "output_type": "execute_result"
    }
   ],
   "source": [
    "my_image.gps_datestamp"
   ]
  },
  {
   "cell_type": "code",
   "execution_count": null,
   "id": "928b4787",
   "metadata": {},
   "outputs": [],
   "source": []
  }
 ],
 "metadata": {
  "kernelspec": {
   "display_name": "Python 3",
   "language": "python",
   "name": "python3"
  },
  "language_info": {
   "codemirror_mode": {
    "name": "ipython",
    "version": 3
   },
   "file_extension": ".py",
   "mimetype": "text/x-python",
   "name": "python",
   "nbconvert_exporter": "python",
   "pygments_lexer": "ipython3",
   "version": "3.8.8"
  }
 },
 "nbformat": 4,
 "nbformat_minor": 5
}
