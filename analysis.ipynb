{
 "cells": [
  {
   "cell_type": "code",
   "execution_count": 18,
   "id": "f74c7f9b",
   "metadata": {},
   "outputs": [],
   "source": [
    "# https://pypi.org/project/exif/\n",
    "# pip install exif\n",
    "\n",
    "# https://pypi.org/project/pymediainfo/\n",
    "# pip install pymediainfo"
   ]
  },
  {
   "cell_type": "code",
   "execution_count": 68,
   "id": "0ea881aa",
   "metadata": {},
   "outputs": [],
   "source": [
    "import pandas as pd\n",
    "# import PIL.Image\n",
    "from exif import Image\n",
    "from pprint import pprint\n",
    "from pymediainfo import MediaInfo\n",
    "from pathlib import Path\n",
    "import numpy as np"
   ]
  },
  {
   "cell_type": "code",
   "execution_count": 20,
   "id": "02d54e79",
   "metadata": {},
   "outputs": [
    {
     "data": {
      "text/plain": [
       "'UTC 2019-01-07 00:28:08'"
      ]
     },
     "execution_count": 20,
     "metadata": {},
     "output_type": "execute_result"
    }
   ],
   "source": [
    "media_info = MediaInfo.parse(\"VID_20190106_162804.mp4\")\n",
    "for track in media_info.tracks:\n",
    "    if track.track_type == \"Video\":\n",
    "        exif_vdata = track.to_data()\n",
    "exif_vdata['tagged_date']"
   ]
  },
  {
   "cell_type": "code",
   "execution_count": 22,
   "id": "70106b60",
   "metadata": {},
   "outputs": [
    {
     "data": {
      "text/plain": [
       "True"
      ]
     },
     "execution_count": 22,
     "metadata": {},
     "output_type": "execute_result"
    }
   ],
   "source": [
    "with open('IMG_20211123_162603.jpg', 'rb') as image_file:\n",
    "    my_image = Image(image_file)\n",
    "my_image.has_exif"
   ]
  },
  {
   "cell_type": "code",
   "execution_count": 30,
   "id": "2adb55b1",
   "metadata": {},
   "outputs": [],
   "source": [
    "# список всех методов\n",
    "# my_image.list_all()"
   ]
  },
  {
   "cell_type": "code",
   "execution_count": 24,
   "id": "6d04702c",
   "metadata": {},
   "outputs": [
    {
     "data": {
      "text/plain": [
       "'2021:11:23 16:26:05'"
      ]
     },
     "execution_count": 24,
     "metadata": {},
     "output_type": "execute_result"
    }
   ],
   "source": [
    "my_image.datetime"
   ]
  },
  {
   "cell_type": "code",
   "execution_count": 25,
   "id": "c98633d9",
   "metadata": {},
   "outputs": [
    {
     "data": {
      "text/plain": [
       "'2021:11:23 16:26:05'"
      ]
     },
     "execution_count": 25,
     "metadata": {},
     "output_type": "execute_result"
    }
   ],
   "source": [
    "my_image.datetime_original"
   ]
  },
  {
   "cell_type": "code",
   "execution_count": 26,
   "id": "401161a8",
   "metadata": {},
   "outputs": [
    {
     "data": {
      "text/plain": [
       "'2021:11:23 16:26:05'"
      ]
     },
     "execution_count": 26,
     "metadata": {},
     "output_type": "execute_result"
    }
   ],
   "source": [
    "my_image.datetime_digitized"
   ]
  },
  {
   "cell_type": "code",
   "execution_count": 27,
   "id": "2208cd54",
   "metadata": {},
   "outputs": [
    {
     "data": {
      "text/plain": [
       "'2021:11:23'"
      ]
     },
     "execution_count": 27,
     "metadata": {},
     "output_type": "execute_result"
    }
   ],
   "source": [
    "my_image.gps_datestamp"
   ]
  },
  {
   "cell_type": "code",
   "execution_count": 32,
   "id": "a2b6b61a",
   "metadata": {},
   "outputs": [],
   "source": [
    "path = Path('D:/Рабочая/!_Scripts/change_file_creation_time')"
   ]
  },
  {
   "cell_type": "code",
   "execution_count": 53,
   "id": "40d0b035",
   "metadata": {},
   "outputs": [
    {
     "data": {
      "text/html": [
       "<div>\n",
       "<style scoped>\n",
       "    .dataframe tbody tr th:only-of-type {\n",
       "        vertical-align: middle;\n",
       "    }\n",
       "\n",
       "    .dataframe tbody tr th {\n",
       "        vertical-align: top;\n",
       "    }\n",
       "\n",
       "    .dataframe thead th {\n",
       "        text-align: right;\n",
       "    }\n",
       "</style>\n",
       "<table border=\"1\" class=\"dataframe\">\n",
       "  <thead>\n",
       "    <tr style=\"text-align: right;\">\n",
       "      <th></th>\n",
       "      <th>name</th>\n",
       "      <th>extension</th>\n",
       "      <th>path</th>\n",
       "    </tr>\n",
       "  </thead>\n",
       "  <tbody>\n",
       "    <tr>\n",
       "      <th>0</th>\n",
       "      <td>.ipynb_checkpoints</td>\n",
       "      <td>ipynb_checkpoints</td>\n",
       "      <td>D:\\Рабочая\\!_Scripts\\change_file_creation_time</td>\n",
       "    </tr>\n",
       "    <tr>\n",
       "      <th>1</th>\n",
       "      <td>changeFileCreationTime.py</td>\n",
       "      <td>py</td>\n",
       "      <td>D:\\Рабочая\\!_Scripts\\change_file_creation_time</td>\n",
       "    </tr>\n",
       "    <tr>\n",
       "      <th>2</th>\n",
       "      <td>IMG_20211123_162603.jpg</td>\n",
       "      <td>jpg</td>\n",
       "      <td>D:\\Рабочая\\!_Scripts\\change_file_creation_time</td>\n",
       "    </tr>\n",
       "    <tr>\n",
       "      <th>3</th>\n",
       "      <td>IMG_20211123_162801.jpg</td>\n",
       "      <td>jpg</td>\n",
       "      <td>D:\\Рабочая\\!_Scripts\\change_file_creation_time</td>\n",
       "    </tr>\n",
       "    <tr>\n",
       "      <th>4</th>\n",
       "      <td>tmp.py</td>\n",
       "      <td>py</td>\n",
       "      <td>D:\\Рабочая\\!_Scripts\\change_file_creation_time</td>\n",
       "    </tr>\n",
       "    <tr>\n",
       "      <th>5</th>\n",
       "      <td>Untitled.ipynb</td>\n",
       "      <td>ipynb</td>\n",
       "      <td>D:\\Рабочая\\!_Scripts\\change_file_creation_time</td>\n",
       "    </tr>\n",
       "    <tr>\n",
       "      <th>6</th>\n",
       "      <td>VID_20190106_162804.mp4</td>\n",
       "      <td>mp4</td>\n",
       "      <td>D:\\Рабочая\\!_Scripts\\change_file_creation_time</td>\n",
       "    </tr>\n",
       "    <tr>\n",
       "      <th>7</th>\n",
       "      <td>Untitled-checkpoint.ipynb</td>\n",
       "      <td>ipynb</td>\n",
       "      <td>D:\\Рабочая\\!_Scripts\\change_file_creation_time...</td>\n",
       "    </tr>\n",
       "  </tbody>\n",
       "</table>\n",
       "</div>"
      ],
      "text/plain": [
       "                        name          extension  \\\n",
       "0         .ipynb_checkpoints  ipynb_checkpoints   \n",
       "1  changeFileCreationTime.py                 py   \n",
       "2    IMG_20211123_162603.jpg                jpg   \n",
       "3    IMG_20211123_162801.jpg                jpg   \n",
       "4                     tmp.py                 py   \n",
       "5             Untitled.ipynb              ipynb   \n",
       "6    VID_20190106_162804.mp4                mp4   \n",
       "7  Untitled-checkpoint.ipynb              ipynb   \n",
       "\n",
       "                                                path  \n",
       "0     D:\\Рабочая\\!_Scripts\\change_file_creation_time  \n",
       "1     D:\\Рабочая\\!_Scripts\\change_file_creation_time  \n",
       "2     D:\\Рабочая\\!_Scripts\\change_file_creation_time  \n",
       "3     D:\\Рабочая\\!_Scripts\\change_file_creation_time  \n",
       "4     D:\\Рабочая\\!_Scripts\\change_file_creation_time  \n",
       "5     D:\\Рабочая\\!_Scripts\\change_file_creation_time  \n",
       "6     D:\\Рабочая\\!_Scripts\\change_file_creation_time  \n",
       "7  D:\\Рабочая\\!_Scripts\\change_file_creation_time...  "
      ]
     },
     "execution_count": 53,
     "metadata": {},
     "output_type": "execute_result"
    }
   ],
   "source": [
    "df = pd.DataFrame(columns=['name', 'extension', 'path'])\n",
    "for file_path in path.glob('**/*.*'):\n",
    "    extension = str(file_path).split('.')[-1]\n",
    "    name = file_path.name\n",
    "    parent_path = file_path.parent\n",
    "    df.loc[len(df)] = [name, extension, parent_path]\n",
    "df"
   ]
  },
  {
   "cell_type": "code",
   "execution_count": 56,
   "id": "e5f55e37",
   "metadata": {},
   "outputs": [
    {
     "data": {
      "text/plain": [
       "jpg                  2\n",
       "py                   2\n",
       "ipynb                2\n",
       "mp4                  1\n",
       "ipynb_checkpoints    1\n",
       "Name: extension, dtype: int64"
      ]
     },
     "execution_count": 56,
     "metadata": {},
     "output_type": "execute_result"
    }
   ],
   "source": [
    "# посмотрим сколько каких файлов по типар расширения у нас есть\n",
    "df.extension.value_counts()"
   ]
  },
  {
   "cell_type": "code",
   "execution_count": 69,
   "id": "abda1410",
   "metadata": {},
   "outputs": [],
   "source": [
    "# списки расширений для видео и фото\n",
    "video_ext = np.array(['mp4'])\n",
    "photo_ext = np.array(['jpg'])"
   ]
  },
  {
   "cell_type": "code",
   "execution_count": 70,
   "id": "dc3f34ef",
   "metadata": {},
   "outputs": [
    {
     "data": {
      "text/html": [
       "<div>\n",
       "<style scoped>\n",
       "    .dataframe tbody tr th:only-of-type {\n",
       "        vertical-align: middle;\n",
       "    }\n",
       "\n",
       "    .dataframe tbody tr th {\n",
       "        vertical-align: top;\n",
       "    }\n",
       "\n",
       "    .dataframe thead th {\n",
       "        text-align: right;\n",
       "    }\n",
       "</style>\n",
       "<table border=\"1\" class=\"dataframe\">\n",
       "  <thead>\n",
       "    <tr style=\"text-align: right;\">\n",
       "      <th></th>\n",
       "      <th>name</th>\n",
       "      <th>extension</th>\n",
       "      <th>path</th>\n",
       "    </tr>\n",
       "  </thead>\n",
       "  <tbody>\n",
       "    <tr>\n",
       "      <th>2</th>\n",
       "      <td>IMG_20211123_162603.jpg</td>\n",
       "      <td>jpg</td>\n",
       "      <td>D:\\Рабочая\\!_Scripts\\change_file_creation_time</td>\n",
       "    </tr>\n",
       "    <tr>\n",
       "      <th>3</th>\n",
       "      <td>IMG_20211123_162801.jpg</td>\n",
       "      <td>jpg</td>\n",
       "      <td>D:\\Рабочая\\!_Scripts\\change_file_creation_time</td>\n",
       "    </tr>\n",
       "    <tr>\n",
       "      <th>6</th>\n",
       "      <td>VID_20190106_162804.mp4</td>\n",
       "      <td>mp4</td>\n",
       "      <td>D:\\Рабочая\\!_Scripts\\change_file_creation_time</td>\n",
       "    </tr>\n",
       "  </tbody>\n",
       "</table>\n",
       "</div>"
      ],
      "text/plain": [
       "                      name extension  \\\n",
       "2  IMG_20211123_162603.jpg       jpg   \n",
       "3  IMG_20211123_162801.jpg       jpg   \n",
       "6  VID_20190106_162804.mp4       mp4   \n",
       "\n",
       "                                             path  \n",
       "2  D:\\Рабочая\\!_Scripts\\change_file_creation_time  \n",
       "3  D:\\Рабочая\\!_Scripts\\change_file_creation_time  \n",
       "6  D:\\Рабочая\\!_Scripts\\change_file_creation_time  "
      ]
     },
     "execution_count": 70,
     "metadata": {},
     "output_type": "execute_result"
    }
   ],
   "source": [
    "# df.query('extension in @video_ext or extension in @photo_ext')"
   ]
  },
  {
   "cell_type": "code",
   "execution_count": null,
   "id": "928b4787",
   "metadata": {},
   "outputs": [],
   "source": []
  }
 ],
 "metadata": {
  "kernelspec": {
   "display_name": "Python 3",
   "language": "python",
   "name": "python3"
  },
  "language_info": {
   "codemirror_mode": {
    "name": "ipython",
    "version": 3
   },
   "file_extension": ".py",
   "mimetype": "text/x-python",
   "name": "python",
   "nbconvert_exporter": "python",
   "pygments_lexer": "ipython3",
   "version": "3.8.8"
  }
 },
 "nbformat": 4,
 "nbformat_minor": 5
}
