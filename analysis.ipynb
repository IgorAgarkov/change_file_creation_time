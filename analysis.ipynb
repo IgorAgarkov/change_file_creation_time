{
 "cells": [
  {
   "cell_type": "code",
   "execution_count": 18,
   "id": "f74c7f9b",
   "metadata": {},
   "outputs": [],
   "source": [
    "# https://pypi.org/project/exif/\n",
    "# pip install exif\n",
    "\n",
    "# https://pypi.org/project/pymediainfo/\n",
    "# pip install pymediainfo"
   ]
  },
  {
   "cell_type": "code",
   "execution_count": 66,
   "id": "0ea881aa",
   "metadata": {},
   "outputs": [],
   "source": [
    "import pandas as pd\n",
    "# import PIL.Image\n",
    "from exif import Image\n",
    "from pprint import pprint\n",
    "from pymediainfo import MediaInfo\n",
    "from pathlib import Path\n",
    "import numpy as np\n",
    "import os\n",
    "import re\n",
    "import numpy as np\n",
    "import json"
   ]
  },
  {
   "cell_type": "code",
   "execution_count": 98,
   "id": "a2b6b61a",
   "metadata": {},
   "outputs": [],
   "source": [
    "# path = Path(r'G:\\Google Photo_extr\\Takeout\\Google Фото')\n",
    "# path = Path(r'D:\\Рабочая\\!_Scripts\\change_file_creation_time')\n",
    "# path = Path('G:/temp/Тест фото')\n",
    "path = Path('E:\\Тест фото')"
   ]
  },
  {
   "cell_type": "code",
   "execution_count": 10,
   "id": "8a769b14",
   "metadata": {},
   "outputs": [],
   "source": [
    "# nef_path = df.query('extension == \".nef\"').path"
   ]
  },
  {
   "cell_type": "code",
   "execution_count": 9,
   "id": "e70bb101",
   "metadata": {},
   "outputs": [],
   "source": [
    "# nef_path.loc[15967]"
   ]
  },
  {
   "cell_type": "code",
   "execution_count": 42,
   "id": "b8630edf",
   "metadata": {},
   "outputs": [],
   "source": [
    "def get_photo_exif_date(full_path):\n",
    "    \"\"\"\n",
    "    функция получает на вход полный путь к файлу картинки и возвращает кортеж из трёх дат получинных из exif:\n",
    "        (datetime, datetime_original, datetime_digitized)\n",
    "    \"\"\"\n",
    "    with open(full_path, 'rb') as image_file:\n",
    "        my_image = Image(image_file)\n",
    "    \n",
    "    # считываем 3 даты из файла\n",
    "    datetime = my_image.datetime\n",
    "    datetime_original  = my_image.datetime_original\n",
    "    datetime_digitized = my_image.datetime_digitized\n",
    "    \n",
    "    # паттерн для перевода дат в нужный формат (дата) (время)\n",
    "    fpattern = re.compile('(\\d\\d\\d\\d:\\d\\d:\\d\\d) (\\d\\d:\\d\\d:\\d\\d)') \n",
    "    \n",
    "    # переводим даты в формат времени по шаблону выше\n",
    "    datetime = pd.to_datetime(\n",
    "                fpattern\n",
    "                    .findall(datetime)[0][0]\n",
    "                    .replace(':','-') + ' ' + fpattern\n",
    "                    .findall(datetime)[0][1]\n",
    "               )\n",
    "    datetime_original = pd.to_datetime(\n",
    "                fpattern\n",
    "                    .findall(datetime_original)[0][0]\n",
    "                    .replace(':','-') + ' ' + fpattern\n",
    "                    .findall(datetime_original)[0][1]\n",
    "               )\n",
    "    datetime_digitized = pd.to_datetime(\n",
    "                fpattern\n",
    "                    .findall(datetime_digitized)[0][0]\n",
    "                    .replace(':','-') + ' ' + fpattern\n",
    "                    .findall(datetime_digitized)[0][1]\n",
    "                )\n",
    "    return datetime, datetime_original, datetime_digitized"
   ]
  },
  {
   "cell_type": "code",
   "execution_count": 109,
   "id": "58eedff9",
   "metadata": {
    "scrolled": true
   },
   "outputs": [],
   "source": [
    "def get_video_exif_date(full_path):\n",
    "    \"\"\"\n",
    "    функция получает на вход полный путь к файлу и возвращает дату создания\n",
    "    \"\"\"\n",
    "    media_info = MediaInfo.parse(full_path)\n",
    "    for track in media_info.tracks:\n",
    "        if track.track_type == \"Video\":\n",
    "            exif_vdata = track.to_data()\n",
    "    vdata = exif_vdata['tagged_date']\n",
    "\n",
    "    # часовой пояс\n",
    "    time_zone = pd.to_timedelta(7, unit='h')\n",
    "\n",
    "    vdata = pd.to_datetime(vdata[4:]) + time_zone\n",
    "    return vdata"
   ]
  },
  {
   "cell_type": "code",
   "execution_count": 63,
   "id": "7935311d",
   "metadata": {},
   "outputs": [],
   "source": [
    "# ищем год в названии файла\n",
    "def get_year_name(full_path):\n",
    "    pattern = re.compile('(20\\d\\d)[^0-9]')\n",
    "    years = pattern.findall(full_path)\n",
    "    if len(years) > 0:\n",
    "        return ' '.join(years)\n",
    "    else:\n",
    "        return np.nan"
   ]
  },
  {
   "cell_type": "code",
   "execution_count": 93,
   "id": "655e011f",
   "metadata": {},
   "outputs": [],
   "source": [
    "# извлекаем дату из json файла\n",
    "def get_json_date(full_path):\n",
    "    try:\n",
    "        json_path = str(full_path) + '.json'\n",
    "        with open(json_path) as json_file:\n",
    "            json_data = json.load(json_file)\n",
    "        \n",
    "        # часовой пояс\n",
    "        time_zone = pd.to_timedelta(7, unit='h')\n",
    "        \n",
    "        # извлекаем время из json, два варианта\n",
    "        video_creation_time = pd.to_datetime(json_data[\"creationTime\"]['timestamp'], unit='s') + time_zone\n",
    "        video_taken_time    = pd.to_datetime(json_data[\"photoTakenTime\"][\"timestamp\"], unit='s') + time_zone\n",
    "        return video_creation_time, video_taken_time\n",
    "    except:\n",
    "        return np.nan, np.nan\n"
   ]
  },
  {
   "cell_type": "code",
   "execution_count": 110,
   "id": "74520390",
   "metadata": {},
   "outputs": [],
   "source": [
    "# удалить\n",
    "# функция вытаскивающая exif\n",
    "def get_exif(path_col):\n",
    "    \n",
    "    # списки расширений для видео и фото\n",
    "    video_ext = np.array(['.mp4', '.mts', '.avi', '.mov', '.3gp', '.mpg', '.mkv'])\n",
    "    photo_ext = np.array(['.jpg', '.jpeg', '.nef', '.gif', '.png', '.bmp'])\n",
    "    \n",
    "    # вытаскиваем exif из видео\n",
    "    if path_col.suffix.lower() in video_ext:\n",
    "        try:\n",
    "            media_info = MediaInfo.parse(path_col)\n",
    "            for track in media_info.tracks:\n",
    "                if track.track_type == \"Video\":\n",
    "                    exif_vdata = track.to_data()\n",
    "            vdata = exif_vdata['tagged_date']\n",
    "            vdata = pd.to_datetime(vdata[4:])\n",
    "            time_zone = pd.to_timedelta(7, unit='h')\n",
    "            return pd.to_datetime(vdata[4:]) + time_zone\n",
    "        except:\n",
    "            return np.nan()\n",
    "    \n",
    "    # вытаскиваем exif из фото\n",
    "    elif path_col.suffix.lower() in photo_ext :\n",
    "        try:\n",
    "            with open('IMG_20211123_162603.jpg', 'rb') as image_file:\n",
    "                my_image = Image(image_file)\n",
    "            fdata = my_image.datetime\n",
    "            fpattern = re.compile('(\\d\\d\\d\\d:\\d\\d:\\d\\d) (\\d\\d:\\d\\d:\\d\\d)') \n",
    "            return pd.to_datetime(fpattern.findall(fdata)[0][0].replace(':','-') + ' ' + fpattern.findall(fdata)[0][1])\n",
    "        except:\n",
    "            return np.nan\n",
    "    else:\n",
    "        return np.nan"
   ]
  },
  {
   "cell_type": "code",
   "execution_count": 3,
   "id": "ac7ba11d",
   "metadata": {},
   "outputs": [
    {
     "name": "stdout",
     "output_type": "stream",
     "text": [
      "Wall time: 52 ms\n"
     ]
    },
    {
     "data": {
      "text/html": [
       "<div>\n",
       "<style scoped>\n",
       "    .dataframe tbody tr th:only-of-type {\n",
       "        vertical-align: middle;\n",
       "    }\n",
       "\n",
       "    .dataframe tbody tr th {\n",
       "        vertical-align: top;\n",
       "    }\n",
       "\n",
       "    .dataframe thead th {\n",
       "        text-align: right;\n",
       "    }\n",
       "</style>\n",
       "<table border=\"1\" class=\"dataframe\">\n",
       "  <thead>\n",
       "    <tr style=\"text-align: right;\">\n",
       "      <th></th>\n",
       "      <th>name</th>\n",
       "      <th>full_name</th>\n",
       "      <th>extension</th>\n",
       "      <th>path</th>\n",
       "    </tr>\n",
       "  </thead>\n",
       "  <tbody>\n",
       "    <tr>\n",
       "      <th>0</th>\n",
       "      <td>IMG_0064</td>\n",
       "      <td>IMG_0064.JPG</td>\n",
       "      <td>.jpg</td>\n",
       "      <td>E:\\Тест фото\\Алтайталь</td>\n",
       "    </tr>\n",
       "    <tr>\n",
       "      <th>1</th>\n",
       "      <td>IMG_0064</td>\n",
       "      <td>IMG_0064.JPG.json</td>\n",
       "      <td>.json</td>\n",
       "      <td>E:\\Тест фото\\Алтайталь</td>\n",
       "    </tr>\n",
       "    <tr>\n",
       "      <th>2</th>\n",
       "      <td>IMG_0065</td>\n",
       "      <td>IMG_0065.JPG</td>\n",
       "      <td>.jpg</td>\n",
       "      <td>E:\\Тест фото\\Алтайталь</td>\n",
       "    </tr>\n",
       "    <tr>\n",
       "      <th>3</th>\n",
       "      <td>IMG_0065</td>\n",
       "      <td>IMG_0065.JPG.json</td>\n",
       "      <td>.json</td>\n",
       "      <td>E:\\Тест фото\\Алтайталь</td>\n",
       "    </tr>\n",
       "    <tr>\n",
       "      <th>4</th>\n",
       "      <td>IMG_0272</td>\n",
       "      <td>IMG_0272.JPG</td>\n",
       "      <td>.jpg</td>\n",
       "      <td>E:\\Тест фото\\Алтайталь</td>\n",
       "    </tr>\n",
       "  </tbody>\n",
       "</table>\n",
       "</div>"
      ],
      "text/plain": [
       "       name          full_name extension                    path\n",
       "0  IMG_0064       IMG_0064.JPG      .jpg  E:\\Тест фото\\Алтайталь\n",
       "1  IMG_0064  IMG_0064.JPG.json     .json  E:\\Тест фото\\Алтайталь\n",
       "2  IMG_0065       IMG_0065.JPG      .jpg  E:\\Тест фото\\Алтайталь\n",
       "3  IMG_0065  IMG_0065.JPG.json     .json  E:\\Тест фото\\Алтайталь\n",
       "4  IMG_0272       IMG_0272.JPG      .jpg  E:\\Тест фото\\Алтайталь"
      ]
     },
     "execution_count": 3,
     "metadata": {},
     "output_type": "execute_result"
    }
   ],
   "source": [
    "%%time\n",
    "df = pd.DataFrame(columns=['name', 'full_name', 'extension', 'path'])\n",
    "for file_path in path.glob('**/*.*'):\n",
    "    if file_path.is_file():\n",
    "        extension = file_path.suffix.lower()\n",
    "        name = Path(file_path.stem).stem\n",
    "        full_name = file_path.name\n",
    "        parent_path = file_path.parent\n",
    "        df.loc[len(df)] = [name, full_name, extension, parent_path]\n",
    "df.head()"
   ]
  },
  {
   "cell_type": "code",
   "execution_count": 102,
   "id": "1ac84db8",
   "metadata": {},
   "outputs": [
    {
     "data": {
      "text/plain": [
       "0"
      ]
     },
     "execution_count": 102,
     "metadata": {},
     "output_type": "execute_result"
    }
   ],
   "source": [
    "len(df)"
   ]
  },
  {
   "cell_type": "code",
   "execution_count": 122,
   "id": "abda1410",
   "metadata": {},
   "outputs": [],
   "source": [
    "# списки расширений для видео и фото\n",
    "video_ext = np.array(['.mp4', '.mts', '.avi', '.mov', '.3gp', '.mpg', '.mkv'])\n",
    "photo_ext = np.array(['.jpg', '.jpeg', '.nef', '.gif', '.png', '.bmp'])"
   ]
  },
  {
   "cell_type": "code",
   "execution_count": 144,
   "id": "73b627a6",
   "metadata": {},
   "outputs": [
    {
     "name": "stdout",
     "output_type": "stream",
     "text": [
      "Wall time: 56 ms\n"
     ]
    }
   ],
   "source": [
    "%%time\n",
    "df = pd.DataFrame(columns=['name', 'extension', 'path', \n",
    "                           'video_exif_date', \n",
    "                           'photo_date', 'photo_date_orig', 'photo_date_dig', \n",
    "                           'json_creation_time', 'json_taken_time',\n",
    "                           'year_from_name'])\n",
    "\n",
    "for file_path in path.glob('**/*.*'):\n",
    "    # условие, чтобы элемент был файлом с расшерением видео или фото\n",
    "    if file_path.is_file() and (file_path.suffix.lower() in video_ext or file_path.suffix.lower() in photo_ext):\n",
    "        video_exif_date = np.nan\n",
    "        photo_date, photo_date_orig, photo_date_dig = np.nan, np.nan, np.nan\n",
    "        # имя файла\n",
    "        name = file_path.stem\n",
    "        # расшерение файла\n",
    "        extension = file_path.suffix.lower()\n",
    "        \n",
    "        # если видео\n",
    "        if file_path.suffix.lower() in video_ext:\n",
    "            video_exif_date = get_video_exif_date(file_path)\n",
    "            # из json\n",
    "            json_creation_time, json_taken_time = get_json_date(file_path)\n",
    "            # из названия файла\n",
    "            year_from_name = get_year_name(name)\n",
    "            \n",
    "        # если фото\n",
    "        elif file_path.suffix.lower() in photo_ext:\n",
    "            photo_date, photo_date_orig, photo_date_dig = get_photo_exif_date(file_path)\n",
    "            # из json\n",
    "            json_creation_time, json_taken_time = get_json_date(file_path)\n",
    "            # из названия файла\n",
    "            year_from_name = get_year_name(name)\n",
    "\n",
    "        df.loc[len(df)] = [name, extension, file_path, \n",
    "                           video_exif_date, \n",
    "                           photo_date, photo_date_orig, photo_date_dig, \n",
    "                           json_creation_time, json_taken_time,\n",
    "                           year_from_name]"
   ]
  },
  {
   "cell_type": "code",
   "execution_count": 145,
   "id": "fa6039bd",
   "metadata": {},
   "outputs": [
    {
     "data": {
      "text/html": [
       "<div>\n",
       "<style scoped>\n",
       "    .dataframe tbody tr th:only-of-type {\n",
       "        vertical-align: middle;\n",
       "    }\n",
       "\n",
       "    .dataframe tbody tr th {\n",
       "        vertical-align: top;\n",
       "    }\n",
       "\n",
       "    .dataframe thead th {\n",
       "        text-align: right;\n",
       "    }\n",
       "</style>\n",
       "<table border=\"1\" class=\"dataframe\">\n",
       "  <thead>\n",
       "    <tr style=\"text-align: right;\">\n",
       "      <th></th>\n",
       "      <th>name</th>\n",
       "      <th>extension</th>\n",
       "      <th>path</th>\n",
       "      <th>video_exif_date</th>\n",
       "      <th>photo_date</th>\n",
       "      <th>photo_date_orig</th>\n",
       "      <th>photo_date_dig</th>\n",
       "      <th>json_creation_time</th>\n",
       "      <th>json_taken_time</th>\n",
       "      <th>year_from_name</th>\n",
       "    </tr>\n",
       "  </thead>\n",
       "  <tbody>\n",
       "    <tr>\n",
       "      <th>0</th>\n",
       "      <td>IMG_0064</td>\n",
       "      <td>.jpg</td>\n",
       "      <td>E:\\Тест фото\\Алтайталь\\IMG_0064.JPG</td>\n",
       "      <td>NaN</td>\n",
       "      <td>2006-08-21 11:29:57</td>\n",
       "      <td>2006-08-21 11:29:57</td>\n",
       "      <td>2006-08-21 11:29:57</td>\n",
       "      <td>2019-02-28 22:19:01</td>\n",
       "      <td>2006-08-21 10:29:57</td>\n",
       "      <td>NaN</td>\n",
       "    </tr>\n",
       "    <tr>\n",
       "      <th>1</th>\n",
       "      <td>IMG_0065</td>\n",
       "      <td>.jpg</td>\n",
       "      <td>E:\\Тест фото\\Алтайталь\\IMG_0065.JPG</td>\n",
       "      <td>NaN</td>\n",
       "      <td>2006-08-21 11:30:28</td>\n",
       "      <td>2006-08-21 11:30:28</td>\n",
       "      <td>2006-08-21 11:30:28</td>\n",
       "      <td>2019-02-28 22:19:01</td>\n",
       "      <td>2006-08-21 10:30:28</td>\n",
       "      <td>NaN</td>\n",
       "    </tr>\n",
       "    <tr>\n",
       "      <th>2</th>\n",
       "      <td>IMG_0272</td>\n",
       "      <td>.jpg</td>\n",
       "      <td>E:\\Тест фото\\Алтайталь\\IMG_0272.JPG</td>\n",
       "      <td>NaN</td>\n",
       "      <td>2006-08-11 09:03:14</td>\n",
       "      <td>2006-08-11 09:03:14</td>\n",
       "      <td>2006-08-11 09:03:14</td>\n",
       "      <td>2019-02-28 22:19:01</td>\n",
       "      <td>2006-08-11 08:03:14</td>\n",
       "      <td>NaN</td>\n",
       "    </tr>\n",
       "    <tr>\n",
       "      <th>3</th>\n",
       "      <td>IMG_0273</td>\n",
       "      <td>.jpg</td>\n",
       "      <td>E:\\Тест фото\\Алтайталь\\IMG_0273.JPG</td>\n",
       "      <td>NaN</td>\n",
       "      <td>2006-08-11 09:03:38</td>\n",
       "      <td>2006-08-11 09:03:38</td>\n",
       "      <td>2006-08-11 09:03:38</td>\n",
       "      <td>2019-02-28 22:19:01</td>\n",
       "      <td>2006-08-11 08:03:38</td>\n",
       "      <td>NaN</td>\n",
       "    </tr>\n",
       "    <tr>\n",
       "      <th>4</th>\n",
       "      <td>IMG_0276</td>\n",
       "      <td>.jpg</td>\n",
       "      <td>E:\\Тест фото\\Алтайталь\\IMG_0276.JPG</td>\n",
       "      <td>NaN</td>\n",
       "      <td>2006-08-11 09:34:10</td>\n",
       "      <td>2006-08-11 09:34:10</td>\n",
       "      <td>2006-08-11 09:34:10</td>\n",
       "      <td>2019-02-28 22:19:01</td>\n",
       "      <td>2006-08-11 08:34:10</td>\n",
       "      <td>NaN</td>\n",
       "    </tr>\n",
       "    <tr>\n",
       "      <th>5</th>\n",
       "      <td>IMG_0277</td>\n",
       "      <td>.jpg</td>\n",
       "      <td>E:\\Тест фото\\Алтайталь\\IMG_0277.JPG</td>\n",
       "      <td>NaN</td>\n",
       "      <td>2006-08-11 09:34:30</td>\n",
       "      <td>2006-08-11 09:34:30</td>\n",
       "      <td>2006-08-11 09:34:30</td>\n",
       "      <td>2019-02-28 22:19:01</td>\n",
       "      <td>2006-08-11 08:34:30</td>\n",
       "      <td>NaN</td>\n",
       "    </tr>\n",
       "    <tr>\n",
       "      <th>6</th>\n",
       "      <td>IMG_0279</td>\n",
       "      <td>.jpg</td>\n",
       "      <td>E:\\Тест фото\\Алтайталь\\IMG_0279.JPG</td>\n",
       "      <td>NaN</td>\n",
       "      <td>2006-08-11 09:35:22</td>\n",
       "      <td>2006-08-11 09:35:22</td>\n",
       "      <td>2006-08-11 09:35:22</td>\n",
       "      <td>2019-02-28 22:19:01</td>\n",
       "      <td>2006-08-11 08:35:22</td>\n",
       "      <td>NaN</td>\n",
       "    </tr>\n",
       "    <tr>\n",
       "      <th>7</th>\n",
       "      <td>IMG_0280</td>\n",
       "      <td>.jpg</td>\n",
       "      <td>E:\\Тест фото\\Алтайталь\\IMG_0280.JPG</td>\n",
       "      <td>NaN</td>\n",
       "      <td>2006-08-11 09:35:55</td>\n",
       "      <td>2006-08-11 09:35:55</td>\n",
       "      <td>2006-08-11 09:35:55</td>\n",
       "      <td>2019-02-28 22:19:01</td>\n",
       "      <td>2006-08-11 08:35:55</td>\n",
       "      <td>NaN</td>\n",
       "    </tr>\n",
       "    <tr>\n",
       "      <th>8</th>\n",
       "      <td>IMG_0282</td>\n",
       "      <td>.jpg</td>\n",
       "      <td>E:\\Тест фото\\Алтайталь\\IMG_0282.JPG</td>\n",
       "      <td>NaN</td>\n",
       "      <td>2006-08-11 09:39:26</td>\n",
       "      <td>2006-08-11 09:39:26</td>\n",
       "      <td>2006-08-11 09:39:26</td>\n",
       "      <td>2019-02-28 22:19:01</td>\n",
       "      <td>2006-08-11 08:39:26</td>\n",
       "      <td>NaN</td>\n",
       "    </tr>\n",
       "    <tr>\n",
       "      <th>9</th>\n",
       "      <td>Горный 2015_720p</td>\n",
       "      <td>.mp4</td>\n",
       "      <td>E:\\Тест фото\\Видео\\Горный 2015_720p.mp4</td>\n",
       "      <td>2016-07-30 21:11:13</td>\n",
       "      <td>NaT</td>\n",
       "      <td>NaT</td>\n",
       "      <td>NaT</td>\n",
       "      <td>2016-07-30 18:45:24</td>\n",
       "      <td>2016-03-19 14:58:46</td>\n",
       "      <td>2015</td>\n",
       "    </tr>\n",
       "  </tbody>\n",
       "</table>\n",
       "</div>"
      ],
      "text/plain": [
       "               name extension                                     path  \\\n",
       "0          IMG_0064      .jpg      E:\\Тест фото\\Алтайталь\\IMG_0064.JPG   \n",
       "1          IMG_0065      .jpg      E:\\Тест фото\\Алтайталь\\IMG_0065.JPG   \n",
       "2          IMG_0272      .jpg      E:\\Тест фото\\Алтайталь\\IMG_0272.JPG   \n",
       "3          IMG_0273      .jpg      E:\\Тест фото\\Алтайталь\\IMG_0273.JPG   \n",
       "4          IMG_0276      .jpg      E:\\Тест фото\\Алтайталь\\IMG_0276.JPG   \n",
       "5          IMG_0277      .jpg      E:\\Тест фото\\Алтайталь\\IMG_0277.JPG   \n",
       "6          IMG_0279      .jpg      E:\\Тест фото\\Алтайталь\\IMG_0279.JPG   \n",
       "7          IMG_0280      .jpg      E:\\Тест фото\\Алтайталь\\IMG_0280.JPG   \n",
       "8          IMG_0282      .jpg      E:\\Тест фото\\Алтайталь\\IMG_0282.JPG   \n",
       "9  Горный 2015_720p      .mp4  E:\\Тест фото\\Видео\\Горный 2015_720p.mp4   \n",
       "\n",
       "       video_exif_date          photo_date     photo_date_orig  \\\n",
       "0                  NaN 2006-08-21 11:29:57 2006-08-21 11:29:57   \n",
       "1                  NaN 2006-08-21 11:30:28 2006-08-21 11:30:28   \n",
       "2                  NaN 2006-08-11 09:03:14 2006-08-11 09:03:14   \n",
       "3                  NaN 2006-08-11 09:03:38 2006-08-11 09:03:38   \n",
       "4                  NaN 2006-08-11 09:34:10 2006-08-11 09:34:10   \n",
       "5                  NaN 2006-08-11 09:34:30 2006-08-11 09:34:30   \n",
       "6                  NaN 2006-08-11 09:35:22 2006-08-11 09:35:22   \n",
       "7                  NaN 2006-08-11 09:35:55 2006-08-11 09:35:55   \n",
       "8                  NaN 2006-08-11 09:39:26 2006-08-11 09:39:26   \n",
       "9  2016-07-30 21:11:13                 NaT                 NaT   \n",
       "\n",
       "       photo_date_dig  json_creation_time     json_taken_time year_from_name  \n",
       "0 2006-08-21 11:29:57 2019-02-28 22:19:01 2006-08-21 10:29:57            NaN  \n",
       "1 2006-08-21 11:30:28 2019-02-28 22:19:01 2006-08-21 10:30:28            NaN  \n",
       "2 2006-08-11 09:03:14 2019-02-28 22:19:01 2006-08-11 08:03:14            NaN  \n",
       "3 2006-08-11 09:03:38 2019-02-28 22:19:01 2006-08-11 08:03:38            NaN  \n",
       "4 2006-08-11 09:34:10 2019-02-28 22:19:01 2006-08-11 08:34:10            NaN  \n",
       "5 2006-08-11 09:34:30 2019-02-28 22:19:01 2006-08-11 08:34:30            NaN  \n",
       "6 2006-08-11 09:35:22 2019-02-28 22:19:01 2006-08-11 08:35:22            NaN  \n",
       "7 2006-08-11 09:35:55 2019-02-28 22:19:01 2006-08-11 08:35:55            NaN  \n",
       "8 2006-08-11 09:39:26 2019-02-28 22:19:01 2006-08-11 08:39:26            NaN  \n",
       "9                 NaT 2016-07-30 18:45:24 2016-03-19 14:58:46           2015  "
      ]
     },
     "execution_count": 145,
     "metadata": {},
     "output_type": "execute_result"
    }
   ],
   "source": [
    "df"
   ]
  },
  {
   "cell_type": "code",
   "execution_count": 141,
   "id": "122a4089",
   "metadata": {},
   "outputs": [
    {
     "data": {
      "text/plain": [
       "name                          object\n",
       "extension                     object\n",
       "path                          object\n",
       "video_exif_date               object\n",
       "photo_date            datetime64[ns]\n",
       "photo_date_orig       datetime64[ns]\n",
       "photo_date_dig        datetime64[ns]\n",
       "json_creation_time    datetime64[ns]\n",
       "json_taken_time       datetime64[ns]\n",
       "year_from_name                object\n",
       "dtype: object"
      ]
     },
     "execution_count": 141,
     "metadata": {},
     "output_type": "execute_result"
    }
   ],
   "source": [
    "df.dtypes"
   ]
  },
  {
   "cell_type": "code",
   "execution_count": 135,
   "id": "0cb840d1",
   "metadata": {},
   "outputs": [
    {
     "data": {
      "text/plain": [
       "Timestamp('2006-08-21 11:29:57')"
      ]
     },
     "execution_count": 135,
     "metadata": {},
     "output_type": "execute_result"
    }
   ],
   "source": [
    "datetime_digitized"
   ]
  },
  {
   "cell_type": "code",
   "execution_count": 116,
   "id": "83e5bc6c",
   "metadata": {},
   "outputs": [
    {
     "data": {
      "text/plain": [
       "array(['.jpg', '.jpeg', '.nef', '.gif', '.png', '.bmp'], dtype='<U5')"
      ]
     },
     "execution_count": 116,
     "metadata": {},
     "output_type": "execute_result"
    }
   ],
   "source": [
    "photo_ext"
   ]
  },
  {
   "cell_type": "code",
   "execution_count": 105,
   "id": "f86ebb88",
   "metadata": {
    "scrolled": true
   },
   "outputs": [
    {
     "data": {
      "text/html": [
       "<div>\n",
       "<style scoped>\n",
       "    .dataframe tbody tr th:only-of-type {\n",
       "        vertical-align: middle;\n",
       "    }\n",
       "\n",
       "    .dataframe tbody tr th {\n",
       "        vertical-align: top;\n",
       "    }\n",
       "\n",
       "    .dataframe thead th {\n",
       "        text-align: right;\n",
       "    }\n",
       "</style>\n",
       "<table border=\"1\" class=\"dataframe\">\n",
       "  <thead>\n",
       "    <tr style=\"text-align: right;\">\n",
       "      <th></th>\n",
       "      <th>name</th>\n",
       "      <th>extension</th>\n",
       "      <th>path</th>\n",
       "    </tr>\n",
       "  </thead>\n",
       "  <tbody>\n",
       "    <tr>\n",
       "      <th>0</th>\n",
       "      <td>IMG_0064</td>\n",
       "      <td>.jpg</td>\n",
       "      <td>E:\\Тест фото\\Алтайталь\\IMG_0064.JPG</td>\n",
       "    </tr>\n",
       "    <tr>\n",
       "      <th>1</th>\n",
       "      <td>IMG_0064.JPG</td>\n",
       "      <td>.json</td>\n",
       "      <td>E:\\Тест фото\\Алтайталь\\IMG_0064.JPG.json</td>\n",
       "    </tr>\n",
       "    <tr>\n",
       "      <th>2</th>\n",
       "      <td>IMG_0065</td>\n",
       "      <td>.jpg</td>\n",
       "      <td>E:\\Тест фото\\Алтайталь\\IMG_0065.JPG</td>\n",
       "    </tr>\n",
       "    <tr>\n",
       "      <th>3</th>\n",
       "      <td>IMG_0065.JPG</td>\n",
       "      <td>.json</td>\n",
       "      <td>E:\\Тест фото\\Алтайталь\\IMG_0065.JPG.json</td>\n",
       "    </tr>\n",
       "    <tr>\n",
       "      <th>4</th>\n",
       "      <td>IMG_0272</td>\n",
       "      <td>.jpg</td>\n",
       "      <td>E:\\Тест фото\\Алтайталь\\IMG_0272.JPG</td>\n",
       "    </tr>\n",
       "    <tr>\n",
       "      <th>5</th>\n",
       "      <td>IMG_0272.JPG</td>\n",
       "      <td>.json</td>\n",
       "      <td>E:\\Тест фото\\Алтайталь\\IMG_0272.JPG.json</td>\n",
       "    </tr>\n",
       "    <tr>\n",
       "      <th>6</th>\n",
       "      <td>IMG_0273</td>\n",
       "      <td>.jpg</td>\n",
       "      <td>E:\\Тест фото\\Алтайталь\\IMG_0273.JPG</td>\n",
       "    </tr>\n",
       "    <tr>\n",
       "      <th>7</th>\n",
       "      <td>IMG_0273.JPG</td>\n",
       "      <td>.json</td>\n",
       "      <td>E:\\Тест фото\\Алтайталь\\IMG_0273.JPG.json</td>\n",
       "    </tr>\n",
       "    <tr>\n",
       "      <th>8</th>\n",
       "      <td>IMG_0276</td>\n",
       "      <td>.jpg</td>\n",
       "      <td>E:\\Тест фото\\Алтайталь\\IMG_0276.JPG</td>\n",
       "    </tr>\n",
       "    <tr>\n",
       "      <th>9</th>\n",
       "      <td>IMG_0276.JPG</td>\n",
       "      <td>.json</td>\n",
       "      <td>E:\\Тест фото\\Алтайталь\\IMG_0276.JPG.json</td>\n",
       "    </tr>\n",
       "    <tr>\n",
       "      <th>10</th>\n",
       "      <td>IMG_0277</td>\n",
       "      <td>.jpg</td>\n",
       "      <td>E:\\Тест фото\\Алтайталь\\IMG_0277.JPG</td>\n",
       "    </tr>\n",
       "    <tr>\n",
       "      <th>11</th>\n",
       "      <td>IMG_0277.JPG</td>\n",
       "      <td>.json</td>\n",
       "      <td>E:\\Тест фото\\Алтайталь\\IMG_0277.JPG.json</td>\n",
       "    </tr>\n",
       "    <tr>\n",
       "      <th>12</th>\n",
       "      <td>IMG_0279</td>\n",
       "      <td>.jpg</td>\n",
       "      <td>E:\\Тест фото\\Алтайталь\\IMG_0279.JPG</td>\n",
       "    </tr>\n",
       "    <tr>\n",
       "      <th>13</th>\n",
       "      <td>IMG_0279.JPG</td>\n",
       "      <td>.json</td>\n",
       "      <td>E:\\Тест фото\\Алтайталь\\IMG_0279.JPG.json</td>\n",
       "    </tr>\n",
       "    <tr>\n",
       "      <th>14</th>\n",
       "      <td>IMG_0280</td>\n",
       "      <td>.jpg</td>\n",
       "      <td>E:\\Тест фото\\Алтайталь\\IMG_0280.JPG</td>\n",
       "    </tr>\n",
       "    <tr>\n",
       "      <th>15</th>\n",
       "      <td>IMG_0280.JPG</td>\n",
       "      <td>.json</td>\n",
       "      <td>E:\\Тест фото\\Алтайталь\\IMG_0280.JPG.json</td>\n",
       "    </tr>\n",
       "    <tr>\n",
       "      <th>16</th>\n",
       "      <td>IMG_0282</td>\n",
       "      <td>.jpg</td>\n",
       "      <td>E:\\Тест фото\\Алтайталь\\IMG_0282.JPG</td>\n",
       "    </tr>\n",
       "    <tr>\n",
       "      <th>17</th>\n",
       "      <td>IMG_0282.JPG</td>\n",
       "      <td>.json</td>\n",
       "      <td>E:\\Тест фото\\Алтайталь\\IMG_0282.JPG.json</td>\n",
       "    </tr>\n",
       "    <tr>\n",
       "      <th>18</th>\n",
       "      <td>метаданные</td>\n",
       "      <td>.json</td>\n",
       "      <td>E:\\Тест фото\\Алтайталь\\метаданные.json</td>\n",
       "    </tr>\n",
       "    <tr>\n",
       "      <th>19</th>\n",
       "      <td>выпускной.mpg</td>\n",
       "      <td>.json</td>\n",
       "      <td>E:\\Тест фото\\Видео\\выпускной.mpg.json</td>\n",
       "    </tr>\n",
       "    <tr>\n",
       "      <th>20</th>\n",
       "      <td>Горный 2015_720p</td>\n",
       "      <td>.mp4</td>\n",
       "      <td>E:\\Тест фото\\Видео\\Горный 2015_720p.mp4</td>\n",
       "    </tr>\n",
       "    <tr>\n",
       "      <th>21</th>\n",
       "      <td>Горный 2015_720p.mp4</td>\n",
       "      <td>.json</td>\n",
       "      <td>E:\\Тест фото\\Видео\\Горный 2015_720p.mp4.json</td>\n",
       "    </tr>\n",
       "    <tr>\n",
       "      <th>22</th>\n",
       "      <td>метаданные</td>\n",
       "      <td>.json</td>\n",
       "      <td>E:\\Тест фото\\Видео\\метаданные.json</td>\n",
       "    </tr>\n",
       "  </tbody>\n",
       "</table>\n",
       "</div>"
      ],
      "text/plain": [
       "                    name extension  \\\n",
       "0               IMG_0064      .jpg   \n",
       "1           IMG_0064.JPG     .json   \n",
       "2               IMG_0065      .jpg   \n",
       "3           IMG_0065.JPG     .json   \n",
       "4               IMG_0272      .jpg   \n",
       "5           IMG_0272.JPG     .json   \n",
       "6               IMG_0273      .jpg   \n",
       "7           IMG_0273.JPG     .json   \n",
       "8               IMG_0276      .jpg   \n",
       "9           IMG_0276.JPG     .json   \n",
       "10              IMG_0277      .jpg   \n",
       "11          IMG_0277.JPG     .json   \n",
       "12              IMG_0279      .jpg   \n",
       "13          IMG_0279.JPG     .json   \n",
       "14              IMG_0280      .jpg   \n",
       "15          IMG_0280.JPG     .json   \n",
       "16              IMG_0282      .jpg   \n",
       "17          IMG_0282.JPG     .json   \n",
       "18            метаданные     .json   \n",
       "19         выпускной.mpg     .json   \n",
       "20      Горный 2015_720p      .mp4   \n",
       "21  Горный 2015_720p.mp4     .json   \n",
       "22            метаданные     .json   \n",
       "\n",
       "                                            path  \n",
       "0            E:\\Тест фото\\Алтайталь\\IMG_0064.JPG  \n",
       "1       E:\\Тест фото\\Алтайталь\\IMG_0064.JPG.json  \n",
       "2            E:\\Тест фото\\Алтайталь\\IMG_0065.JPG  \n",
       "3       E:\\Тест фото\\Алтайталь\\IMG_0065.JPG.json  \n",
       "4            E:\\Тест фото\\Алтайталь\\IMG_0272.JPG  \n",
       "5       E:\\Тест фото\\Алтайталь\\IMG_0272.JPG.json  \n",
       "6            E:\\Тест фото\\Алтайталь\\IMG_0273.JPG  \n",
       "7       E:\\Тест фото\\Алтайталь\\IMG_0273.JPG.json  \n",
       "8            E:\\Тест фото\\Алтайталь\\IMG_0276.JPG  \n",
       "9       E:\\Тест фото\\Алтайталь\\IMG_0276.JPG.json  \n",
       "10           E:\\Тест фото\\Алтайталь\\IMG_0277.JPG  \n",
       "11      E:\\Тест фото\\Алтайталь\\IMG_0277.JPG.json  \n",
       "12           E:\\Тест фото\\Алтайталь\\IMG_0279.JPG  \n",
       "13      E:\\Тест фото\\Алтайталь\\IMG_0279.JPG.json  \n",
       "14           E:\\Тест фото\\Алтайталь\\IMG_0280.JPG  \n",
       "15      E:\\Тест фото\\Алтайталь\\IMG_0280.JPG.json  \n",
       "16           E:\\Тест фото\\Алтайталь\\IMG_0282.JPG  \n",
       "17      E:\\Тест фото\\Алтайталь\\IMG_0282.JPG.json  \n",
       "18        E:\\Тест фото\\Алтайталь\\метаданные.json  \n",
       "19         E:\\Тест фото\\Видео\\выпускной.mpg.json  \n",
       "20       E:\\Тест фото\\Видео\\Горный 2015_720p.mp4  \n",
       "21  E:\\Тест фото\\Видео\\Горный 2015_720p.mp4.json  \n",
       "22            E:\\Тест фото\\Видео\\метаданные.json  "
      ]
     },
     "execution_count": 105,
     "metadata": {},
     "output_type": "execute_result"
    }
   ],
   "source": [
    "df"
   ]
  },
  {
   "cell_type": "code",
   "execution_count": null,
   "id": "1a5935fb",
   "metadata": {},
   "outputs": [],
   "source": []
  },
  {
   "cell_type": "code",
   "execution_count": null,
   "id": "f3bdc6f7",
   "metadata": {},
   "outputs": [],
   "source": []
  },
  {
   "cell_type": "code",
   "execution_count": null,
   "id": "b3e08ddb",
   "metadata": {},
   "outputs": [],
   "source": []
  },
  {
   "cell_type": "code",
   "execution_count": null,
   "id": "0839395b",
   "metadata": {},
   "outputs": [],
   "source": []
  },
  {
   "cell_type": "code",
   "execution_count": null,
   "id": "0feefb28",
   "metadata": {},
   "outputs": [],
   "source": []
  },
  {
   "cell_type": "code",
   "execution_count": null,
   "id": "9c2e4dd8",
   "metadata": {},
   "outputs": [],
   "source": []
  },
  {
   "cell_type": "code",
   "execution_count": 72,
   "id": "2adb55b1",
   "metadata": {},
   "outputs": [],
   "source": [
    "# список всех методов\n",
    "# my_image.list_all()"
   ]
  },
  {
   "cell_type": "code",
   "execution_count": 63,
   "id": "6d04702c",
   "metadata": {
    "scrolled": true
   },
   "outputs": [
    {
     "data": {
      "text/plain": [
       "'2021:11:23 16:26:05'"
      ]
     },
     "execution_count": 63,
     "metadata": {},
     "output_type": "execute_result"
    }
   ],
   "source": [
    "fdata = my_image.datetime\n",
    "fdata"
   ]
  },
  {
   "cell_type": "code",
   "execution_count": 71,
   "id": "9541aef3",
   "metadata": {},
   "outputs": [
    {
     "data": {
      "text/plain": [
       "'2021-11-23 16:26:05'"
      ]
     },
     "execution_count": 71,
     "metadata": {},
     "output_type": "execute_result"
    }
   ],
   "source": [
    "fpattern = re.compile('(\\d\\d\\d\\d:\\d\\d:\\d\\d) (\\d\\d:\\d\\d:\\d\\d)') \n",
    "fpattern.findall(fdata)[0][0].replace(':','-') + ' ' + fpattern.findall(fdata)[0][1]"
   ]
  },
  {
   "cell_type": "code",
   "execution_count": 25,
   "id": "c98633d9",
   "metadata": {},
   "outputs": [
    {
     "data": {
      "text/plain": [
       "'2021:11:23 16:26:05'"
      ]
     },
     "execution_count": 25,
     "metadata": {},
     "output_type": "execute_result"
    }
   ],
   "source": [
    "my_image.datetime_original"
   ]
  },
  {
   "cell_type": "code",
   "execution_count": 26,
   "id": "401161a8",
   "metadata": {},
   "outputs": [
    {
     "data": {
      "text/plain": [
       "'2021:11:23 16:26:05'"
      ]
     },
     "execution_count": 26,
     "metadata": {},
     "output_type": "execute_result"
    }
   ],
   "source": [
    "my_image.datetime_digitized"
   ]
  },
  {
   "cell_type": "code",
   "execution_count": 27,
   "id": "2208cd54",
   "metadata": {},
   "outputs": [
    {
     "data": {
      "text/plain": [
       "'2021:11:23'"
      ]
     },
     "execution_count": 27,
     "metadata": {},
     "output_type": "execute_result"
    }
   ],
   "source": [
    "my_image.gps_datestamp"
   ]
  },
  {
   "cell_type": "code",
   "execution_count": null,
   "id": "928b4787",
   "metadata": {},
   "outputs": [],
   "source": []
  }
 ],
 "metadata": {
  "kernelspec": {
   "display_name": "Python 3",
   "language": "python",
   "name": "python3"
  },
  "language_info": {
   "codemirror_mode": {
    "name": "ipython",
    "version": 3
   },
   "file_extension": ".py",
   "mimetype": "text/x-python",
   "name": "python",
   "nbconvert_exporter": "python",
   "pygments_lexer": "ipython3",
   "version": "3.8.8"
  }
 },
 "nbformat": 4,
 "nbformat_minor": 5
}
