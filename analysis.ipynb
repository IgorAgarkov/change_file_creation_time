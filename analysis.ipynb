{
 "cells": [
  {
   "cell_type": "code",
   "execution_count": 18,
   "id": "f74c7f9b",
   "metadata": {},
   "outputs": [],
   "source": [
    "# https://pypi.org/project/exif/\n",
    "# pip install exif\n",
    "\n",
    "# https://pypi.org/project/pymediainfo/\n",
    "# pip install pymediainfo"
   ]
  },
  {
   "cell_type": "code",
   "execution_count": 21,
   "id": "0ea881aa",
   "metadata": {},
   "outputs": [],
   "source": [
    "import pandas as pd\n",
    "# import PIL.Image\n",
    "from exif import Image\n",
    "from pprint import pprint\n",
    "from pymediainfo import MediaInfo\n",
    "from pathlib import Path\n",
    "import numpy as np\n",
    "import os\n",
    "import re\n",
    "import numpy as np\n",
    "import json\n",
    "from shutil import copy2"
   ]
  },
  {
   "cell_type": "code",
   "execution_count": 2,
   "id": "a2b6b61a",
   "metadata": {},
   "outputs": [],
   "source": [
    "path = r'G:\\Google Photo_extr\\Takeout\\Google Фото'\n",
    "# path = Path(r'G:\\Google Photo_extr\\Takeout\\Google Фото')\n",
    "# path = Path(r'D:\\Рабочая\\!_Scripts\\change_file_creation_time')\n",
    "# path = Path('G:/temp/Тест фото')\n",
    "# path = Path('E:\\Тест фото')"
   ]
  },
  {
   "cell_type": "code",
   "execution_count": 18,
   "id": "8b5be2c8",
   "metadata": {},
   "outputs": [],
   "source": [
    "def get_file_table(dir_path):\n",
    "    df = pd.DataFrame(columns=['name', 'extension', 'path'])\n",
    "    path = Path(dir_path)\n",
    "    for file in path.glob('**/*.*'):\n",
    "        if file.is_file():\n",
    "            name = file.stem\n",
    "            extension = file.suffix.lower()\n",
    "            full_path = file\n",
    "            df.loc[len(df)] = [name, extension, full_path]\n",
    "    return df"
   ]
  },
  {
   "cell_type": "code",
   "execution_count": 33,
   "id": "b8630edf",
   "metadata": {},
   "outputs": [],
   "source": [
    "def get_photo_exif_date(full_path):\n",
    "    \"\"\"\n",
    "    функция получает на вход полный путь к файлу картинки и возвращает кортеж из трёх дат получинных из exif:\n",
    "        (datetime, datetime_original, datetime_digitized)\n",
    "    \"\"\"\n",
    "    try:\n",
    "        with open(full_path, 'rb') as image_file:\n",
    "            my_image = Image(image_file)\n",
    "    except:\n",
    "        return np.nan\n",
    "    # паттерн для перевода дат в нужный формат (дата) (время)\n",
    "    fpattern = re.compile('(\\d\\d\\d\\d:\\d\\d:\\d\\d) (\\d\\d:\\d\\d:\\d\\d)') \n",
    "    \n",
    "    # считываем 3 даты из файла\n",
    "    try:\n",
    "        datetime = my_image.datetime\n",
    "        # переводим даты в формат времени по шаблону выше\n",
    "        datetime = pd.to_datetime(\n",
    "                    fpattern\n",
    "                        .findall(datetime)[0][0]\n",
    "                        .replace(':','-') + ' ' + fpattern\n",
    "                        .findall(datetime)[0][1]\n",
    "                   )\n",
    "    except:\n",
    "        datetime = np.nan\n",
    "    \n",
    "    try:\n",
    "        datetime_original = my_image.datetime_original\n",
    "        datetime_original = pd.to_datetime(\n",
    "                    fpattern\n",
    "                        .findall(datetime_original)[0][0]\n",
    "                        .replace(':','-') + ' ' + fpattern\n",
    "                        .findall(datetime_original)[0][1]\n",
    "                   )\n",
    "    except:\n",
    "        datetime_original = np.nan\n",
    "    \n",
    "    try:\n",
    "        datetime_digitized = my_image.datetime_digitized\n",
    "        datetime_digitized = pd.to_datetime(\n",
    "                    fpattern\n",
    "                        .findall(datetime_digitized)[0][0]\n",
    "                        .replace(':','-') + ' ' + fpattern\n",
    "                        .findall(datetime_digitized)[0][1]\n",
    "                    )\n",
    "    except:\n",
    "        datetime_digitized = np.nan\n",
    "        \n",
    "    return datetime, datetime_original, datetime_digitized"
   ]
  },
  {
   "cell_type": "code",
   "execution_count": 19,
   "id": "58eedff9",
   "metadata": {
    "scrolled": true
   },
   "outputs": [],
   "source": [
    "def get_video_exif_date(full_path):\n",
    "    \"\"\"\n",
    "    функция получает на вход полный путь к файлу и возвращает дату создания\n",
    "    \"\"\"\n",
    "    media_info = MediaInfo.parse(full_path)\n",
    "    for track in media_info.tracks:\n",
    "        if track.track_type == \"Video\":\n",
    "            try:\n",
    "                exif_vdata = track.to_data()\n",
    "                vdata = exif_vdata['tagged_date']\n",
    "\n",
    "                # часовой пояс\n",
    "                time_zone = pd.to_timedelta(7, unit='h')\n",
    "\n",
    "                vdata = pd.to_datetime(vdata[4:]) + time_zone\n",
    "                return vdata\n",
    "            except:\n",
    "                return np.nan"
   ]
  },
  {
   "cell_type": "code",
   "execution_count": 5,
   "id": "7935311d",
   "metadata": {},
   "outputs": [],
   "source": [
    "# ищем год в названии файла\n",
    "def get_year_name(full_path):\n",
    "    pattern = re.compile('(20\\d\\d)[^0-9]')\n",
    "    years = pattern.findall(full_path)\n",
    "    if len(years) > 0:\n",
    "        return ' '.join(years)\n",
    "    else:\n",
    "        return np.nan"
   ]
  },
  {
   "cell_type": "code",
   "execution_count": 6,
   "id": "655e011f",
   "metadata": {},
   "outputs": [],
   "source": [
    "# извлекаем дату из json файла\n",
    "def get_json_date(full_path):\n",
    "    try:\n",
    "        json_path = str(full_path) + '.json'\n",
    "        with open(json_path) as json_file:\n",
    "            json_data = json.load(json_file)\n",
    "        \n",
    "        # часовой пояс\n",
    "        time_zone = pd.to_timedelta(7, unit='h')\n",
    "        \n",
    "        # извлекаем время из json, два варианта\n",
    "        video_creation_time = pd.to_datetime(json_data[\"creationTime\"]['timestamp'], unit='s') + time_zone\n",
    "        video_taken_time    = pd.to_datetime(json_data[\"photoTakenTime\"][\"timestamp\"], unit='s') + time_zone\n",
    "        return video_creation_time, video_taken_time\n",
    "    except:\n",
    "        return np.nan, np.nan\n"
   ]
  },
  {
   "cell_type": "code",
   "execution_count": 19,
   "id": "1bdaf525",
   "metadata": {},
   "outputs": [
    {
     "name": "stdout",
     "output_type": "stream",
     "text": [
      "Wall time: 5min 9s\n"
     ]
    }
   ],
   "source": [
    "%%time\n",
    "# сначала получим весь список файлов, расшерений и путей\n",
    "df = get_file_table(path)"
   ]
  },
  {
   "cell_type": "code",
   "execution_count": 20,
   "id": "949a63b3",
   "metadata": {},
   "outputs": [
    {
     "data": {
      "text/plain": [
       ".json    31740\n",
       ".jpg     28857\n",
       ".mp4      2132\n",
       ".mts       516\n",
       ".jpeg       56\n",
       ".avi        41\n",
       ".nef        40\n",
       ".mov        38\n",
       ".3gp        19\n",
       ".gif        13\n",
       ".png         6\n",
       ".mpg         3\n",
       ".bmp         3\n",
       ".mkv         1\n",
       "Name: extension, dtype: int64"
      ]
     },
     "execution_count": 20,
     "metadata": {},
     "output_type": "execute_result"
    }
   ],
   "source": [
    "df.extension.value_counts()"
   ]
  },
  {
   "cell_type": "code",
   "execution_count": null,
   "id": "f221e8ed",
   "metadata": {},
   "outputs": [],
   "source": [
    "ext_list = ['.jpeg', '.avi', '.nef', '.mov', '.3gp', '.gif', '.png', '.mpg', '.mpg', '.bmp', '.mkv']\n",
    "base_goal_patch = 'G:/'\n",
    "for x in ext_list:\n",
    "    for file_path in  df.query('extension == @x').path:\n",
    "        if not os.path.exists('DXF'):                                           # создаём папку DXF, если она не существует\n",
    "            os.makedirs(x[1:])\n",
    "\n",
    "            \n",
    "            \n",
    "# доделать...."
   ]
  },
  {
   "cell_type": "code",
   "execution_count": 25,
   "id": "71a556ad",
   "metadata": {},
   "outputs": [],
   "source": [
    "ext = '.jpeg'\n",
    "goal_patch = r'G:\\jpeg'\n",
    "for file_path in  df.query('extension == @ext').path:\n",
    "    copy2(file_path\n",
    "          , goal_patch +'/' + file_path.stem + ext)"
   ]
  },
  {
   "cell_type": "code",
   "execution_count": null,
   "id": "4be074f2",
   "metadata": {},
   "outputs": [],
   "source": [
    "ext = '.avi'\n",
    "goal_patch = r'G:\\avi'\n",
    "for file_path in  df.query('extension == @ext').path:\n",
    "    copy2(file_path\n",
    "          , goal_patch +'/' + file_path.stem + ext)"
   ]
  },
  {
   "cell_type": "code",
   "execution_count": 26,
   "id": "5d301f9b",
   "metadata": {},
   "outputs": [],
   "source": [
    "ext = '.nef'\n",
    "goal_patch = r'G:\\nef'\n",
    "for file_path in  df.query('extension == @ext').path:\n",
    "    copy2(file_path\n",
    "          , goal_patch +'/' + file_path.stem + ext)"
   ]
  },
  {
   "cell_type": "code",
   "execution_count": 27,
   "id": "e89aa415",
   "metadata": {},
   "outputs": [],
   "source": [
    "ext = '.mov'\n",
    "goal_patch = r'G:\\mov'\n",
    "for file_path in  df.query('extension == @ext').path:\n",
    "    copy2(file_path\n",
    "          , goal_patch +'/' + file_path.stem + ext)"
   ]
  },
  {
   "cell_type": "code",
   "execution_count": 28,
   "id": "cf2fb2e9",
   "metadata": {},
   "outputs": [],
   "source": [
    "ext = '.3gp'\n",
    "goal_patch = r'G:\\3gp'\n",
    "for file_path in  df.query('extension == @ext').path:\n",
    "    copy2(file_path\n",
    "          , goal_patch +'/' + file_path.stem + ext)"
   ]
  },
  {
   "cell_type": "code",
   "execution_count": null,
   "id": "78e3e195",
   "metadata": {},
   "outputs": [],
   "source": []
  },
  {
   "cell_type": "code",
   "execution_count": null,
   "id": "505b6eab",
   "metadata": {},
   "outputs": [],
   "source": []
  },
  {
   "cell_type": "code",
   "execution_count": 39,
   "id": "abda1410",
   "metadata": {},
   "outputs": [],
   "source": [
    "# списки расширений для видео и фото\n",
    "# video_ext = np.array(['.mp4', '.mts', '.avi', '.mov', '.3gp', '.mpg', '.mkv'])\n",
    "# photo_ext = np.array(['.jpg', '.jpeg', '.nef', '.gif', '.png', '.bmp'])\n",
    "\n",
    "video_ext = np.array(['.mp4', '.mts'])\n",
    "photo_ext = np.array(['.jpg', '.jpeg'])"
   ]
  },
  {
   "cell_type": "code",
   "execution_count": 40,
   "id": "73b627a6",
   "metadata": {},
   "outputs": [
    {
     "name": "stderr",
     "output_type": "stream",
     "text": [
      "<ipython-input-33-b0b58f583047>:28: RuntimeWarning: ASCII tag contains -1 fewer bytes than specified\n",
      "  datetime_original = my_image.datetime_original\n"
     ]
    },
    {
     "name": "stdout",
     "output_type": "stream",
     "text": [
      "Wall time: 21min 48s\n"
     ]
    }
   ],
   "source": [
    "%%time\n",
    "df = pd.DataFrame(columns=['name', 'extension', 'path', \n",
    "                           'video_exif_date', \n",
    "                           'photo_date', 'photo_date_orig', 'photo_date_dig', \n",
    "                           'json_creation_time', 'json_taken_time',\n",
    "                           'year_from_name'])\n",
    "\n",
    "for file_path in path.glob('**/*.*'):\n",
    "    # условие, чтобы элемент был файлом с расшерением видео или фото\n",
    "    if file_path.is_file() and (file_path.suffix.lower() in video_ext or file_path.suffix.lower() in photo_ext):\n",
    "        \n",
    "        # обнуляем все значения, чтобы не записывались старые\n",
    "        video_exif_date, photo_date, photo_date_orig, photo_date_dig, json_creation_time, json_taken_time, year_from_name = (np.nan,) * 7\n",
    "        \n",
    "        # имя файла\n",
    "        name = file_path.stem\n",
    "        # расшерение файла\n",
    "        extension = file_path.suffix.lower()\n",
    "        \n",
    "        # если видео\n",
    "        if file_path.suffix.lower() in video_ext:\n",
    "            video_exif_date = get_video_exif_date(file_path)\n",
    "#             # из json\n",
    "#             json_creation_time, json_taken_time = get_json_date(file_path)\n",
    "#             # из названия файла\n",
    "#             year_from_name = get_year_name(name)\n",
    "            \n",
    "        # если фото\n",
    "        elif file_path.suffix.lower() in photo_ext:\n",
    "            photo_date, photo_date_orig, photo_date_dig = get_photo_exif_date(file_path)\n",
    "        \n",
    "        # из json\n",
    "        json_creation_time, json_taken_time = get_json_date(file_path)\n",
    "        \n",
    "        # из названия файла\n",
    "        year_from_name = get_year_name(name)\n",
    "\n",
    "        df.loc[len(df)] = [name, extension, file_path, \n",
    "                           video_exif_date, \n",
    "                           photo_date, photo_date_orig, photo_date_dig, \n",
    "                           json_creation_time, json_taken_time,\n",
    "                           year_from_name]\n",
    "df['video_exif_date'] = pd.to_datetime(df['video_exif_date'])"
   ]
  },
  {
   "cell_type": "code",
   "execution_count": 42,
   "id": "fa6039bd",
   "metadata": {
    "scrolled": true
   },
   "outputs": [
    {
     "data": {
      "text/plain": [
       "(31561, 10)"
      ]
     },
     "execution_count": 42,
     "metadata": {},
     "output_type": "execute_result"
    }
   ],
   "source": [
    "df.shape"
   ]
  },
  {
   "cell_type": "code",
   "execution_count": 43,
   "id": "122a4089",
   "metadata": {},
   "outputs": [
    {
     "data": {
      "text/plain": [
       "name                          object\n",
       "extension                     object\n",
       "path                          object\n",
       "video_exif_date       datetime64[ns]\n",
       "photo_date            datetime64[ns]\n",
       "photo_date_orig       datetime64[ns]\n",
       "photo_date_dig        datetime64[ns]\n",
       "json_creation_time    datetime64[ns]\n",
       "json_taken_time       datetime64[ns]\n",
       "year_from_name                object\n",
       "dtype: object"
      ]
     },
     "execution_count": 43,
     "metadata": {},
     "output_type": "execute_result"
    }
   ],
   "source": [
    "df.dtypes"
   ]
  },
  {
   "cell_type": "code",
   "execution_count": 44,
   "id": "1a5935fb",
   "metadata": {},
   "outputs": [
    {
     "data": {
      "text/html": [
       "<div>\n",
       "<style scoped>\n",
       "    .dataframe tbody tr th:only-of-type {\n",
       "        vertical-align: middle;\n",
       "    }\n",
       "\n",
       "    .dataframe tbody tr th {\n",
       "        vertical-align: top;\n",
       "    }\n",
       "\n",
       "    .dataframe thead th {\n",
       "        text-align: right;\n",
       "    }\n",
       "</style>\n",
       "<table border=\"1\" class=\"dataframe\">\n",
       "  <thead>\n",
       "    <tr style=\"text-align: right;\">\n",
       "      <th></th>\n",
       "      <th>name</th>\n",
       "      <th>extension</th>\n",
       "      <th>path</th>\n",
       "      <th>video_exif_date</th>\n",
       "      <th>photo_date</th>\n",
       "      <th>photo_date_orig</th>\n",
       "      <th>photo_date_dig</th>\n",
       "      <th>json_creation_time</th>\n",
       "      <th>json_taken_time</th>\n",
       "      <th>year_from_name</th>\n",
       "    </tr>\n",
       "  </thead>\n",
       "  <tbody>\n",
       "    <tr>\n",
       "      <th>537</th>\n",
       "      <td>IMG_2002 copy</td>\n",
       "      <td>.jpg</td>\n",
       "      <td>G:\\Google Photo_extr\\Takeout\\Google Фото\\Photo...</td>\n",
       "      <td>NaT</td>\n",
       "      <td>2007-08-01 20:33:50</td>\n",
       "      <td>2007-07-24 15:42:10</td>\n",
       "      <td>2007-07-24 15:42:10</td>\n",
       "      <td>2016-07-24 11:26:06</td>\n",
       "      <td>2007-07-24 14:42:10</td>\n",
       "      <td>2002</td>\n",
       "    </tr>\n",
       "    <tr>\n",
       "      <th>553</th>\n",
       "      <td>IMG_2021 copy 2</td>\n",
       "      <td>.jpg</td>\n",
       "      <td>G:\\Google Photo_extr\\Takeout\\Google Фото\\Photo...</td>\n",
       "      <td>NaT</td>\n",
       "      <td>2007-08-01 20:18:28</td>\n",
       "      <td>2007-07-24 16:06:07</td>\n",
       "      <td>2007-07-24 16:06:07</td>\n",
       "      <td>2016-07-24 11:26:16</td>\n",
       "      <td>2007-07-24 15:06:07</td>\n",
       "      <td>2021</td>\n",
       "    </tr>\n",
       "    <tr>\n",
       "      <th>554</th>\n",
       "      <td>IMG_2021 copy</td>\n",
       "      <td>.jpg</td>\n",
       "      <td>G:\\Google Photo_extr\\Takeout\\Google Фото\\Photo...</td>\n",
       "      <td>NaT</td>\n",
       "      <td>2007-08-01 20:18:35</td>\n",
       "      <td>2007-07-24 16:06:07</td>\n",
       "      <td>2007-07-24 16:06:07</td>\n",
       "      <td>2016-07-24 11:26:17</td>\n",
       "      <td>2007-07-24 15:06:07</td>\n",
       "      <td>2021</td>\n",
       "    </tr>\n",
       "    <tr>\n",
       "      <th>572</th>\n",
       "      <td>IMG_2049 copy</td>\n",
       "      <td>.jpg</td>\n",
       "      <td>G:\\Google Photo_extr\\Takeout\\Google Фото\\Photo...</td>\n",
       "      <td>NaT</td>\n",
       "      <td>2007-08-01 20:56:48</td>\n",
       "      <td>2007-07-25 13:59:58</td>\n",
       "      <td>2007-07-25 13:59:58</td>\n",
       "      <td>2016-07-24 11:26:29</td>\n",
       "      <td>2007-07-25 12:59:58</td>\n",
       "      <td>2049</td>\n",
       "    </tr>\n",
       "    <tr>\n",
       "      <th>575</th>\n",
       "      <td>IMG_2051 copy</td>\n",
       "      <td>.jpg</td>\n",
       "      <td>G:\\Google Photo_extr\\Takeout\\Google Фото\\Photo...</td>\n",
       "      <td>NaT</td>\n",
       "      <td>2007-08-02 13:56:54</td>\n",
       "      <td>2007-07-25 21:49:54</td>\n",
       "      <td>2007-07-25 21:49:54</td>\n",
       "      <td>2016-07-24 11:26:31</td>\n",
       "      <td>2007-07-25 20:49:54</td>\n",
       "      <td>2051</td>\n",
       "    </tr>\n",
       "    <tr>\n",
       "      <th>...</th>\n",
       "      <td>...</td>\n",
       "      <td>...</td>\n",
       "      <td>...</td>\n",
       "      <td>...</td>\n",
       "      <td>...</td>\n",
       "      <td>...</td>\n",
       "      <td>...</td>\n",
       "      <td>...</td>\n",
       "      <td>...</td>\n",
       "      <td>...</td>\n",
       "    </tr>\n",
       "    <tr>\n",
       "      <th>29502</th>\n",
       "      <td>IMG_2066 copy</td>\n",
       "      <td>.jpg</td>\n",
       "      <td>G:\\Google Photo_extr\\Takeout\\Google Фото\\Поезд...</td>\n",
       "      <td>NaT</td>\n",
       "      <td>2007-08-01 22:47:04</td>\n",
       "      <td>2007-07-25 22:38:00</td>\n",
       "      <td>2007-07-25 22:38:00</td>\n",
       "      <td>2016-07-24 11:35:12</td>\n",
       "      <td>2007-07-25 21:38:00</td>\n",
       "      <td>2066</td>\n",
       "    </tr>\n",
       "    <tr>\n",
       "      <th>29504</th>\n",
       "      <td>IMG_2067 copy</td>\n",
       "      <td>.jpg</td>\n",
       "      <td>G:\\Google Photo_extr\\Takeout\\Google Фото\\Поезд...</td>\n",
       "      <td>NaT</td>\n",
       "      <td>2007-08-01 22:46:09</td>\n",
       "      <td>2007-07-25 22:38:07</td>\n",
       "      <td>2007-07-25 22:38:07</td>\n",
       "      <td>2016-07-24 11:35:12</td>\n",
       "      <td>2007-07-25 21:38:07</td>\n",
       "      <td>2067</td>\n",
       "    </tr>\n",
       "    <tr>\n",
       "      <th>29523</th>\n",
       "      <td>IMG_2087 copy</td>\n",
       "      <td>.jpg</td>\n",
       "      <td>G:\\Google Photo_extr\\Takeout\\Google Фото\\Поезд...</td>\n",
       "      <td>NaT</td>\n",
       "      <td>2007-08-01 22:33:52</td>\n",
       "      <td>2007-07-26 10:17:29</td>\n",
       "      <td>2007-07-26 10:17:29</td>\n",
       "      <td>2016-07-24 11:35:12</td>\n",
       "      <td>2007-07-26 09:17:29</td>\n",
       "      <td>2087</td>\n",
       "    </tr>\n",
       "    <tr>\n",
       "      <th>29527</th>\n",
       "      <td>IMG_2092 copy</td>\n",
       "      <td>.jpg</td>\n",
       "      <td>G:\\Google Photo_extr\\Takeout\\Google Фото\\Поезд...</td>\n",
       "      <td>NaT</td>\n",
       "      <td>2007-08-01 22:31:24</td>\n",
       "      <td>2007-07-26 10:19:46</td>\n",
       "      <td>2007-07-26 10:19:46</td>\n",
       "      <td>2016-07-24 11:35:12</td>\n",
       "      <td>2007-07-26 09:19:46</td>\n",
       "      <td>2092</td>\n",
       "    </tr>\n",
       "    <tr>\n",
       "      <th>29530</th>\n",
       "      <td>IMG_2098 copy</td>\n",
       "      <td>.jpg</td>\n",
       "      <td>G:\\Google Photo_extr\\Takeout\\Google Фото\\Поезд...</td>\n",
       "      <td>NaT</td>\n",
       "      <td>2007-08-01 22:29:25</td>\n",
       "      <td>2007-07-26 10:58:23</td>\n",
       "      <td>2007-07-26 10:58:23</td>\n",
       "      <td>2016-07-24 11:35:12</td>\n",
       "      <td>2007-07-26 09:58:23</td>\n",
       "      <td>2098</td>\n",
       "    </tr>\n",
       "  </tbody>\n",
       "</table>\n",
       "<p>367 rows × 10 columns</p>\n",
       "</div>"
      ],
      "text/plain": [
       "                  name extension  \\\n",
       "537      IMG_2002 copy      .jpg   \n",
       "553    IMG_2021 copy 2      .jpg   \n",
       "554      IMG_2021 copy      .jpg   \n",
       "572      IMG_2049 copy      .jpg   \n",
       "575      IMG_2051 copy      .jpg   \n",
       "...                ...       ...   \n",
       "29502    IMG_2066 copy      .jpg   \n",
       "29504    IMG_2067 copy      .jpg   \n",
       "29523    IMG_2087 copy      .jpg   \n",
       "29527    IMG_2092 copy      .jpg   \n",
       "29530    IMG_2098 copy      .jpg   \n",
       "\n",
       "                                                    path video_exif_date  \\\n",
       "537    G:\\Google Photo_extr\\Takeout\\Google Фото\\Photo...             NaT   \n",
       "553    G:\\Google Photo_extr\\Takeout\\Google Фото\\Photo...             NaT   \n",
       "554    G:\\Google Photo_extr\\Takeout\\Google Фото\\Photo...             NaT   \n",
       "572    G:\\Google Photo_extr\\Takeout\\Google Фото\\Photo...             NaT   \n",
       "575    G:\\Google Photo_extr\\Takeout\\Google Фото\\Photo...             NaT   \n",
       "...                                                  ...             ...   \n",
       "29502  G:\\Google Photo_extr\\Takeout\\Google Фото\\Поезд...             NaT   \n",
       "29504  G:\\Google Photo_extr\\Takeout\\Google Фото\\Поезд...             NaT   \n",
       "29523  G:\\Google Photo_extr\\Takeout\\Google Фото\\Поезд...             NaT   \n",
       "29527  G:\\Google Photo_extr\\Takeout\\Google Фото\\Поезд...             NaT   \n",
       "29530  G:\\Google Photo_extr\\Takeout\\Google Фото\\Поезд...             NaT   \n",
       "\n",
       "               photo_date     photo_date_orig      photo_date_dig  \\\n",
       "537   2007-08-01 20:33:50 2007-07-24 15:42:10 2007-07-24 15:42:10   \n",
       "553   2007-08-01 20:18:28 2007-07-24 16:06:07 2007-07-24 16:06:07   \n",
       "554   2007-08-01 20:18:35 2007-07-24 16:06:07 2007-07-24 16:06:07   \n",
       "572   2007-08-01 20:56:48 2007-07-25 13:59:58 2007-07-25 13:59:58   \n",
       "575   2007-08-02 13:56:54 2007-07-25 21:49:54 2007-07-25 21:49:54   \n",
       "...                   ...                 ...                 ...   \n",
       "29502 2007-08-01 22:47:04 2007-07-25 22:38:00 2007-07-25 22:38:00   \n",
       "29504 2007-08-01 22:46:09 2007-07-25 22:38:07 2007-07-25 22:38:07   \n",
       "29523 2007-08-01 22:33:52 2007-07-26 10:17:29 2007-07-26 10:17:29   \n",
       "29527 2007-08-01 22:31:24 2007-07-26 10:19:46 2007-07-26 10:19:46   \n",
       "29530 2007-08-01 22:29:25 2007-07-26 10:58:23 2007-07-26 10:58:23   \n",
       "\n",
       "       json_creation_time     json_taken_time year_from_name  \n",
       "537   2016-07-24 11:26:06 2007-07-24 14:42:10           2002  \n",
       "553   2016-07-24 11:26:16 2007-07-24 15:06:07           2021  \n",
       "554   2016-07-24 11:26:17 2007-07-24 15:06:07           2021  \n",
       "572   2016-07-24 11:26:29 2007-07-25 12:59:58           2049  \n",
       "575   2016-07-24 11:26:31 2007-07-25 20:49:54           2051  \n",
       "...                   ...                 ...            ...  \n",
       "29502 2016-07-24 11:35:12 2007-07-25 21:38:00           2066  \n",
       "29504 2016-07-24 11:35:12 2007-07-25 21:38:07           2067  \n",
       "29523 2016-07-24 11:35:12 2007-07-26 09:17:29           2087  \n",
       "29527 2016-07-24 11:35:12 2007-07-26 09:19:46           2092  \n",
       "29530 2016-07-24 11:35:12 2007-07-26 09:58:23           2098  \n",
       "\n",
       "[367 rows x 10 columns]"
      ]
     },
     "execution_count": 44,
     "metadata": {},
     "output_type": "execute_result"
    }
   ],
   "source": [
    "df.dropna(subset=['year_from_name'])"
   ]
  },
  {
   "cell_type": "code",
   "execution_count": null,
   "id": "f3bdc6f7",
   "metadata": {},
   "outputs": [],
   "source": []
  },
  {
   "cell_type": "code",
   "execution_count": null,
   "id": "b3e08ddb",
   "metadata": {},
   "outputs": [],
   "source": []
  },
  {
   "cell_type": "code",
   "execution_count": null,
   "id": "0839395b",
   "metadata": {},
   "outputs": [],
   "source": []
  },
  {
   "cell_type": "code",
   "execution_count": null,
   "id": "0feefb28",
   "metadata": {},
   "outputs": [],
   "source": []
  },
  {
   "cell_type": "code",
   "execution_count": null,
   "id": "9c2e4dd8",
   "metadata": {},
   "outputs": [],
   "source": []
  },
  {
   "cell_type": "code",
   "execution_count": 72,
   "id": "2adb55b1",
   "metadata": {},
   "outputs": [],
   "source": [
    "# список всех методов\n",
    "# my_image.list_all()"
   ]
  },
  {
   "cell_type": "code",
   "execution_count": null,
   "id": "928b4787",
   "metadata": {},
   "outputs": [],
   "source": []
  }
 ],
 "metadata": {
  "kernelspec": {
   "display_name": "Python 3",
   "language": "python",
   "name": "python3"
  },
  "language_info": {
   "codemirror_mode": {
    "name": "ipython",
    "version": 3
   },
   "file_extension": ".py",
   "mimetype": "text/x-python",
   "name": "python",
   "nbconvert_exporter": "python",
   "pygments_lexer": "ipython3",
   "version": "3.8.8"
  }
 },
 "nbformat": 4,
 "nbformat_minor": 5
}
