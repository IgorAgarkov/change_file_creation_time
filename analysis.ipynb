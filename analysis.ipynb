{
 "cells": [
  {
   "cell_type": "code",
   "execution_count": 18,
   "id": "f74c7f9b",
   "metadata": {},
   "outputs": [],
   "source": [
    "# https://pypi.org/project/exif/\n",
    "# pip install exif\n",
    "\n",
    "# https://pypi.org/project/pymediainfo/\n",
    "# pip install pymediainfo"
   ]
  },
  {
   "cell_type": "code",
   "execution_count": 2,
   "id": "0ea881aa",
   "metadata": {},
   "outputs": [],
   "source": [
    "import pandas as pd\n",
    "# import PIL.Image\n",
    "from exif import Image\n",
    "from pprint import pprint\n",
    "from pymediainfo import MediaInfo\n",
    "from pathlib import Path\n",
    "import numpy as np"
   ]
  },
  {
   "cell_type": "code",
   "execution_count": 3,
   "id": "a2b6b61a",
   "metadata": {},
   "outputs": [],
   "source": [
    "path = Path('G:\\Google Photo_extr\\Takeout\\Google Фото')"
   ]
  },
  {
   "cell_type": "code",
   "execution_count": 7,
   "id": "40d0b035",
   "metadata": {},
   "outputs": [
    {
     "name": "stdout",
     "output_type": "stream",
     "text": [
      "Wall time: 5min 5s\n"
     ]
    },
    {
     "data": {
      "text/html": [
       "<div>\n",
       "<style scoped>\n",
       "    .dataframe tbody tr th:only-of-type {\n",
       "        vertical-align: middle;\n",
       "    }\n",
       "\n",
       "    .dataframe tbody tr th {\n",
       "        vertical-align: top;\n",
       "    }\n",
       "\n",
       "    .dataframe thead th {\n",
       "        text-align: right;\n",
       "    }\n",
       "</style>\n",
       "<table border=\"1\" class=\"dataframe\">\n",
       "  <thead>\n",
       "    <tr style=\"text-align: right;\">\n",
       "      <th></th>\n",
       "      <th>name</th>\n",
       "      <th>extension</th>\n",
       "      <th>path</th>\n",
       "    </tr>\n",
       "  </thead>\n",
       "  <tbody>\n",
       "    <tr>\n",
       "      <th>0</th>\n",
       "      <td>print-subscriptions.json</td>\n",
       "      <td>json</td>\n",
       "      <td>G:\\Google Photo_extr\\Takeout\\Google Фото</td>\n",
       "    </tr>\n",
       "    <tr>\n",
       "      <th>1</th>\n",
       "      <td>shared_album_comments.json</td>\n",
       "      <td>json</td>\n",
       "      <td>G:\\Google Photo_extr\\Takeout\\Google Фото</td>\n",
       "    </tr>\n",
       "    <tr>\n",
       "      <th>2</th>\n",
       "      <td>user-generated-memory-titles.json</td>\n",
       "      <td>json</td>\n",
       "      <td>G:\\Google Photo_extr\\Takeout\\Google Фото</td>\n",
       "    </tr>\n",
       "    <tr>\n",
       "      <th>3</th>\n",
       "      <td>Йога - Власова Наталья (2014.03.02 - 2014.11.22)</td>\n",
       "      <td>22)</td>\n",
       "      <td>G:\\Google Photo_extr\\Takeout\\Google Фото</td>\n",
       "    </tr>\n",
       "    <tr>\n",
       "      <th>4</th>\n",
       "      <td>Поездка в Санкт-Петербург (2007 г.)</td>\n",
       "      <td>)</td>\n",
       "      <td>G:\\Google Photo_extr\\Takeout\\Google Фото</td>\n",
       "    </tr>\n",
       "  </tbody>\n",
       "</table>\n",
       "</div>"
      ],
      "text/plain": [
       "                                               name extension  \\\n",
       "0                          print-subscriptions.json      json   \n",
       "1                        shared_album_comments.json      json   \n",
       "2                 user-generated-memory-titles.json      json   \n",
       "3  Йога - Власова Наталья (2014.03.02 - 2014.11.22)       22)   \n",
       "4               Поездка в Санкт-Петербург (2007 г.)         )   \n",
       "\n",
       "                                       path  \n",
       "0  G:\\Google Photo_extr\\Takeout\\Google Фото  \n",
       "1  G:\\Google Photo_extr\\Takeout\\Google Фото  \n",
       "2  G:\\Google Photo_extr\\Takeout\\Google Фото  \n",
       "3  G:\\Google Photo_extr\\Takeout\\Google Фото  \n",
       "4  G:\\Google Photo_extr\\Takeout\\Google Фото  "
      ]
     },
     "execution_count": 7,
     "metadata": {},
     "output_type": "execute_result"
    }
   ],
   "source": [
    "%%time\n",
    "df = pd.DataFrame(columns=['name', 'extension', 'path'])\n",
    "for file_path in path.glob('**/*.*'):\n",
    "    extension = str(file_path.name).split('.')[-1]\n",
    "    name = file_path.name\n",
    "    parent_path = file_path.parent\n",
    "    df.loc[len(df)] = [name, extension, parent_path]\n",
    "df.head()"
   ]
  },
  {
   "cell_type": "code",
   "execution_count": 8,
   "id": "e5f55e37",
   "metadata": {},
   "outputs": [
    {
     "data": {
      "text/plain": [
       "json                                        31740\n",
       "JPG                                         19298\n",
       "jpg                                          9559\n",
       "mp4                                          1862\n",
       "MTS                                           516\n",
       "MP4                                           270\n",
       "jpeg                                           56\n",
       "NEF                                            40\n",
       "AVI                                            39\n",
       "MOV                                            38\n",
       "3gp                                            19\n",
       "gif                                            13\n",
       "png                                             6\n",
       "MPG                                             3\n",
       "bmp                                             3\n",
       "avi                                             2\n",
       " Первый год жизни                               1\n",
       "mkv                                             1\n",
       " Гадецкого в Барнауле 2-3 июня 2018 (2-й        1\n",
       "22)                                             1\n",
       ")                                               1\n",
       "13                                              1\n",
       "Name: extension, dtype: int64"
      ]
     },
     "execution_count": 8,
     "metadata": {},
     "output_type": "execute_result"
    }
   ],
   "source": [
    "# посмотрим сколько каких файлов по типам расширения у нас есть\n",
    "df.extension.value_counts()"
   ]
  },
  {
   "cell_type": "code",
   "execution_count": 6,
   "id": "4bc3c747",
   "metadata": {},
   "outputs": [
    {
     "data": {
      "text/html": [
       "<div>\n",
       "<style scoped>\n",
       "    .dataframe tbody tr th:only-of-type {\n",
       "        vertical-align: middle;\n",
       "    }\n",
       "\n",
       "    .dataframe tbody tr th {\n",
       "        vertical-align: top;\n",
       "    }\n",
       "\n",
       "    .dataframe thead th {\n",
       "        text-align: right;\n",
       "    }\n",
       "</style>\n",
       "<table border=\"1\" class=\"dataframe\">\n",
       "  <thead>\n",
       "    <tr style=\"text-align: right;\">\n",
       "      <th></th>\n",
       "      <th>name</th>\n",
       "      <th>extension</th>\n",
       "      <th>path</th>\n",
       "    </tr>\n",
       "  </thead>\n",
       "  <tbody>\n",
       "    <tr>\n",
       "      <th>3</th>\n",
       "      <td>Йога - Власова Наталья (2014.03.02 - 2014.11.22)</td>\n",
       "      <td>22)</td>\n",
       "      <td>G:\\Google Photo_extr\\Takeout\\Google Фото</td>\n",
       "    </tr>\n",
       "  </tbody>\n",
       "</table>\n",
       "</div>"
      ],
      "text/plain": [
       "                                               name extension  \\\n",
       "3  Йога - Власова Наталья (2014.03.02 - 2014.11.22)       22)   \n",
       "\n",
       "                                       path  \n",
       "3  G:\\Google Photo_extr\\Takeout\\Google Фото  "
      ]
     },
     "execution_count": 6,
     "metadata": {},
     "output_type": "execute_result"
    }
   ],
   "source": [
    "df.query('extension == \"22)\"')"
   ]
  },
  {
   "cell_type": "code",
   "execution_count": 70,
   "id": "dc3f34ef",
   "metadata": {
    "scrolled": true
   },
   "outputs": [
    {
     "data": {
      "text/html": [
       "<div>\n",
       "<style scoped>\n",
       "    .dataframe tbody tr th:only-of-type {\n",
       "        vertical-align: middle;\n",
       "    }\n",
       "\n",
       "    .dataframe tbody tr th {\n",
       "        vertical-align: top;\n",
       "    }\n",
       "\n",
       "    .dataframe thead th {\n",
       "        text-align: right;\n",
       "    }\n",
       "</style>\n",
       "<table border=\"1\" class=\"dataframe\">\n",
       "  <thead>\n",
       "    <tr style=\"text-align: right;\">\n",
       "      <th></th>\n",
       "      <th>name</th>\n",
       "      <th>extension</th>\n",
       "      <th>path</th>\n",
       "    </tr>\n",
       "  </thead>\n",
       "  <tbody>\n",
       "    <tr>\n",
       "      <th>2</th>\n",
       "      <td>IMG_20211123_162603.jpg</td>\n",
       "      <td>jpg</td>\n",
       "      <td>D:\\Рабочая\\!_Scripts\\change_file_creation_time</td>\n",
       "    </tr>\n",
       "    <tr>\n",
       "      <th>3</th>\n",
       "      <td>IMG_20211123_162801.jpg</td>\n",
       "      <td>jpg</td>\n",
       "      <td>D:\\Рабочая\\!_Scripts\\change_file_creation_time</td>\n",
       "    </tr>\n",
       "    <tr>\n",
       "      <th>6</th>\n",
       "      <td>VID_20190106_162804.mp4</td>\n",
       "      <td>mp4</td>\n",
       "      <td>D:\\Рабочая\\!_Scripts\\change_file_creation_time</td>\n",
       "    </tr>\n",
       "  </tbody>\n",
       "</table>\n",
       "</div>"
      ],
      "text/plain": [
       "                      name extension  \\\n",
       "2  IMG_20211123_162603.jpg       jpg   \n",
       "3  IMG_20211123_162801.jpg       jpg   \n",
       "6  VID_20190106_162804.mp4       mp4   \n",
       "\n",
       "                                             path  \n",
       "2  D:\\Рабочая\\!_Scripts\\change_file_creation_time  \n",
       "3  D:\\Рабочая\\!_Scripts\\change_file_creation_time  \n",
       "6  D:\\Рабочая\\!_Scripts\\change_file_creation_time  "
      ]
     },
     "execution_count": 70,
     "metadata": {},
     "output_type": "execute_result"
    }
   ],
   "source": [
    "df.query('extension in @video_ext or extension in @photo_ext')"
   ]
  },
  {
   "cell_type": "code",
   "execution_count": 69,
   "id": "abda1410",
   "metadata": {},
   "outputs": [],
   "source": [
    "# списки расширений для видео и фото\n",
    "video_ext = np.array(['mp4'])\n",
    "photo_ext = np.array(['jpg'])"
   ]
  },
  {
   "cell_type": "code",
   "execution_count": 20,
   "id": "02d54e79",
   "metadata": {},
   "outputs": [
    {
     "data": {
      "text/plain": [
       "'UTC 2019-01-07 00:28:08'"
      ]
     },
     "execution_count": 20,
     "metadata": {},
     "output_type": "execute_result"
    }
   ],
   "source": [
    "media_info = MediaInfo.parse(\"VID_20190106_162804.mp4\")\n",
    "for track in media_info.tracks:\n",
    "    if track.track_type == \"Video\":\n",
    "        exif_vdata = track.to_data()\n",
    "exif_vdata['tagged_date']"
   ]
  },
  {
   "cell_type": "code",
   "execution_count": 22,
   "id": "70106b60",
   "metadata": {},
   "outputs": [
    {
     "data": {
      "text/plain": [
       "True"
      ]
     },
     "execution_count": 22,
     "metadata": {},
     "output_type": "execute_result"
    }
   ],
   "source": [
    "with open('IMG_20211123_162603.jpg', 'rb') as image_file:\n",
    "    my_image = Image(image_file)\n",
    "my_image.has_exif"
   ]
  },
  {
   "cell_type": "code",
   "execution_count": 30,
   "id": "2adb55b1",
   "metadata": {},
   "outputs": [],
   "source": [
    "# список всех методов\n",
    "# my_image.list_all()"
   ]
  },
  {
   "cell_type": "code",
   "execution_count": 24,
   "id": "6d04702c",
   "metadata": {},
   "outputs": [
    {
     "data": {
      "text/plain": [
       "'2021:11:23 16:26:05'"
      ]
     },
     "execution_count": 24,
     "metadata": {},
     "output_type": "execute_result"
    }
   ],
   "source": [
    "my_image.datetime"
   ]
  },
  {
   "cell_type": "code",
   "execution_count": 25,
   "id": "c98633d9",
   "metadata": {},
   "outputs": [
    {
     "data": {
      "text/plain": [
       "'2021:11:23 16:26:05'"
      ]
     },
     "execution_count": 25,
     "metadata": {},
     "output_type": "execute_result"
    }
   ],
   "source": [
    "my_image.datetime_original"
   ]
  },
  {
   "cell_type": "code",
   "execution_count": 26,
   "id": "401161a8",
   "metadata": {},
   "outputs": [
    {
     "data": {
      "text/plain": [
       "'2021:11:23 16:26:05'"
      ]
     },
     "execution_count": 26,
     "metadata": {},
     "output_type": "execute_result"
    }
   ],
   "source": [
    "my_image.datetime_digitized"
   ]
  },
  {
   "cell_type": "code",
   "execution_count": 27,
   "id": "2208cd54",
   "metadata": {},
   "outputs": [
    {
     "data": {
      "text/plain": [
       "'2021:11:23'"
      ]
     },
     "execution_count": 27,
     "metadata": {},
     "output_type": "execute_result"
    }
   ],
   "source": [
    "my_image.gps_datestamp"
   ]
  },
  {
   "cell_type": "code",
   "execution_count": null,
   "id": "928b4787",
   "metadata": {},
   "outputs": [],
   "source": []
  }
 ],
 "metadata": {
  "kernelspec": {
   "display_name": "Python 3",
   "language": "python",
   "name": "python3"
  },
  "language_info": {
   "codemirror_mode": {
    "name": "ipython",
    "version": 3
   },
   "file_extension": ".py",
   "mimetype": "text/x-python",
   "name": "python",
   "nbconvert_exporter": "python",
   "pygments_lexer": "ipython3",
   "version": "3.8.8"
  }
 },
 "nbformat": 4,
 "nbformat_minor": 5
}
